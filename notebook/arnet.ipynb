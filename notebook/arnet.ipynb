{
 "metadata": {
  "language_info": {
   "codemirror_mode": {
    "name": "ipython",
    "version": 3
   },
   "file_extension": ".py",
   "mimetype": "text/x-python",
   "name": "python",
   "nbconvert_exporter": "python",
   "pygments_lexer": "ipython3",
   "version": 3
  },
  "orig_nbformat": 2,
  "kernelspec": {
   "name": "julia-1.5",
   "display_name": "Julia 1.5.2",
   "language": "julia"
  }
 },
 "nbformat": 4,
 "nbformat_minor": 2,
 "cells": [
  {
   "source": [
    "# Auto Regressive Network Inference \n",
    "\n",
    "To run this notebook:\n",
    "\n",
    "1. Install the [julia-1.5.3](https://julialang.org/downloads/)\n",
    "\n",
    "2. Install [PyPlot](https://github.com/JuliaPy/PyPlot.jl) package. To enter in the package manager, just type `]` and from the package manager prompt do a\n",
    "```\n",
    "(@v1.5) pkg> add PyPlot\n",
    "```\n",
    "\n",
    "3. Install the unregistered [PlmDCA](https://github.com/pagnani/PlmDCA) package. From the package manager prompt do a\n",
    "```\n",
    "(@v1.5) pkg> add https://github.com/pagnani/PlmDCA\n",
    "```\n",
    "\n",
    "4. Install the ipynb interface in julia, you should add the [IJulia](https://github.com/JuliaLang/IJulia.jl) package using the package manager. Again, from the package manager prompt do a\n",
    "```\n",
    "(@v1.5) pkg> add IJulia \n",
    "```\n",
    "Exit the Package Manager (type `backspace` or `delete`) and from julia prompt do a \n",
    "```\n",
    "julia> using IJulia\n",
    "julia> notebook()\n",
    "```\n",
    "The ipynb file manager should open a page on your browser and from there you should navigate to this notebook.\n"
   ],
   "cell_type": "markdown",
   "metadata": {}
  },
  {
   "source": [
    "## Load ArDCA package \n",
    "\n",
    "The following cell loads the package `ArDCA` on `nprocs` workers (here `nprocs=8`). The first time it takes a while. \n",
    "\n",
    "* The `mypkg` variable should be set to your `path/to/package` dir.\n",
    "\n",
    "* The `datadir` variable points to the `five families autoregressive` path we shared."
   ],
   "cell_type": "markdown",
   "metadata": {}
  },
  {
   "cell_type": "code",
   "execution_count": 1,
   "metadata": {},
   "outputs": [
    {
     "output_type": "stream",
     "name": "stdout",
     "text": [
      "      From worker 3:\t Activating environment at `~/CODE/ArDCA/Project.toml`\n",
      "      From worker 5:\t Activating environment at `~/CODE/ArDCA/Project.toml`\n",
      "      From worker 2:\t Activating environment at `~/CODE/ArDCA/Project.toml`\n",
      "      From worker 4:\t Activating environment at `~/CODE/ArDCA/Project.toml`\n",
      "      From worker 7:\t Activating environment at `~/CODE/ArDCA/Project.toml`\n",
      "      From worker 9:\t Activating environment at `~/CODE/ArDCA/Project.toml`\n",
      "      From worker 8:\t Activating environment at `~/CODE/ArDCA/Project.toml`\n",
      "      From worker 6:\t Activating environment at `~/CODE/ArDCA/Project.toml`\n",
      "\u001b[32m\u001b[1m Activating\u001b[22m\u001b[39m environment at `~/CODE/ArDCA/Project.toml`\n",
      "┌ Info: Precompiling ArDCA [fc7e833f-a3b9-439d-ae82-c6ad11a3e54b]\n",
      "└ @ Base loading.jl:1278\n"
     ]
    }
   ],
   "source": [
    "mypkgdir = joinpath(ENV[\"HOME\"],\"CODE/ArDCA\")\n",
    "datadir=joinpath(ENV[\"HOME\"],\"Dropbox\",\"five families autoregressive\") # put here your path\n",
    "cd(mypkgdir)\n",
    "using Distributed, PyPlot\n",
    "nprocs = 8\n",
    "addprocs(nprocs) # choose the number of cores that you want to use (here \n",
    "@everywhere using Pkg\n",
    "@everywhere Pkg.activate(\".\")\n",
    "@everywhere using ArDCA\n",
    "@everywhere using PlmDCA\n",
    "include(joinpath(mypkgdir,\"notebook/script.jl\")); # a script with some utilities"
   ]
  },
  {
   "source": [
    "## Define the protein family \n",
    "\n",
    "The following cell assumes that `datadir` is the `five families autoregressive` directory we shared.\n",
    "\n",
    "The `out` strcture is defined in the `script.jl` file.\n",
    "```\n",
    "mutable struct AnalOut\n",
    "    arnet # the ArDCA inferred model parameters\n",
    "    arvar # the internal variables\n",
    "    resori::Union{PlmOut,Nothing} # the PlmDCA output of the original MSA\n",
    "    resgen::Union{PlmOut,Nothing} # the PlmDCA output of the generated MSA\n",
    "    rocori::Union{Nothing,Array{Tuple{Int64,Int64,Float64,Float64}}} # score of original MSA\n",
    "    rocgen::Union{Nothing,Array{Tuple{Int64,Int64,Float64,Float64}}} # score of generated MSA\n",
    "    Zgen::Union{Nothing,Array{Int,2}}\n",
    "end"
   ],
   "cell_type": "markdown",
   "metadata": {}
  },
  {
   "cell_type": "code",
   "execution_count": 2,
   "metadata": {},
   "outputs": [],
   "source": [
    "family=joinpath(datadir,\"PF14\")\n",
    "out = AnalOut(nothing,nothing,nothing,nothing,nothing,nothing,nothing);"
   ]
  },
  {
   "source": [
    "## Run ArDCA analyis\n",
    "\n",
    "beside `lambdaJ, lambdaH`, possible keywork arguments are (with their default value):\n",
    "\n",
    "* `epsconv::Real=1.0e-5` (convergenge parameter)\n",
    "\n",
    "* `maxit::Int=1000` (maximum number of iteration - don't change)\n",
    "\n",
    "* `verbose::Bool=true` (set to `false` to suppress printing on screen)\n",
    "\n",
    "* `method::Symbol=:LD_LBFGS` (optimization method)\n",
    "\n",
    "* `permorder::Union{Symbol,Vector{Ti}}=:ENTROPIC` (permutation order). Possible values are: `[:NATURAL, :ENTROPIC, :REV_ENTROPIC, :RANDOM]` or a custom permutation vector.\n",
    "\n",
    "\n",
    "\n"
   ],
   "cell_type": "markdown",
   "metadata": {}
  },
  {
   "cell_type": "code",
   "execution_count": 3,
   "metadata": {},
   "outputs": [
    {
     "output_type": "stream",
     "name": "stdout",
     "text": [
      "removing duplicate sequences... done: 13600 -> 8871\n",
      "theta = 0.33088461264010915 threshold = 17.0\n",
      "M = 8871 N = 53 Meff = 2950.925530761667\n",
      "      From worker 2:\tsite = 1\tpl = 0.0340\ttime = 5.2828\tstatus = FTOL_REACHED\n",
      "      From worker 2:\tsite = 2\tpl = 0.1170\ttime = 0.3142\tstatus = FTOL_REACHED\n",
      "      From worker 2:\tsite = 3\tpl = 0.1395\ttime = 0.3519\tstatus = FTOL_REACHED\n",
      "      From worker 3:\tsite = 8\tpl = 0.3596\ttime = 6.2837\tstatus = FTOL_REACHED\n",
      "      From worker 2:\tsite = 4\tpl = 0.2205\ttime = 0.4116\tstatus = FTOL_REACHED\n",
      "      From worker 2:\tsite = 5\tpl = 0.2758\ttime = 0.6291\tstatus = FTOL_REACHED\n",
      "      From worker 3:\tsite = 9\tpl = 0.5847\ttime = 1.0936\tstatus = FTOL_REACHED\n",
      "      From worker 2:\tsite = 6\tpl = 0.4155\ttime = 0.9459\tstatus = FTOL_REACHED\n",
      "      From worker 4:\tsite = 15\tpl = 1.0009\ttime = 7.9623\tstatus = FTOL_REACHED\n",
      "      From worker 2:\tsite = 7\tpl = 0.3602\ttime = 1.3520\tstatus = FTOL_REACHED\n",
      "      From worker 3:\tsite = 10\tpl = 0.4759\ttime = 2.3516\tstatus = FTOL_REACHED\n",
      "      From worker 5:\tsite = 22\tpl = 1.2670\ttime = 9.8265\tstatus = FTOL_REACHED\n",
      "      From worker 4:\tsite = 16\tpl = 0.9900\ttime = 3.5884\tstatus = FTOL_REACHED\n",
      "      From worker 3:\tsite = 11\tpl = 0.4131\ttime = 2.0573\tstatus = FTOL_REACHED\n",
      "      From worker 3:\tsite = 12\tpl = 0.5185\ttime = 2.5371\tstatus = FTOL_REACHED\n",
      "      From worker 4:\tsite = 17\tpl = 1.0147\ttime = 3.9068\tstatus = FTOL_REACHED\n",
      "      From worker 3:\tsite = 13\tpl = 0.8088\ttime = 2.1557\tstatus = FTOL_REACHED\n",
      "      From worker 6:\tsite = 29\tpl = 1.3434\ttime = 16.6301\tstatus = FTOL_REACHED\n",
      "      From worker 5:\tsite = 23\tpl = 1.1581\ttime = 7.3773\tstatus = FTOL_REACHED\n",
      "      From worker 3:\tsite = 14\tpl = 0.3914\ttime = 2.9866\tstatus = FTOL_REACHED\n",
      "      From worker 4:\tsite = 18\tpl = 1.1133\ttime = 4.1469\tstatus = FTOL_REACHED\n",
      "      From worker 7:\tsite = 35\tpl = 0.8526\ttime = 20.0120\tstatus = FTOL_REACHED\n",
      "      From worker 4:\tsite = 19\tpl = 0.7827\ttime = 4.1571\tstatus = FTOL_REACHED\n",
      "      From worker 5:\tsite = 24\tpl = 0.9986\ttime = 7.5950\tstatus = FTOL_REACHED\n",
      "      From worker 8:\tsite = 41\tpl = 1.0937\ttime = 25.0798\tstatus = FTOL_REACHED\n",
      "      From worker 6:\tsite = 30\tpl = 1.3872\ttime = 10.2703\tstatus = FTOL_REACHED\n",
      "      From worker 4:\tsite = 20\tpl = 0.7485\ttime = 4.0106\tstatus = FTOL_REACHED\n",
      "      From worker 9:\tsite = 47\tpl = 0.7247\ttime = 29.4738\tstatus = FTOL_REACHED\n",
      "      From worker 4:\tsite = 21\tpl = 1.0896\ttime = 4.7240\tstatus = FTOL_REACHED\n",
      "      From worker 5:\tsite = 25\tpl = 1.0475\ttime = 9.5304\tstatus = FTOL_REACHED\n",
      "      From worker 7:\tsite = 36\tpl = 1.1612\ttime = 15.5998\tstatus = FTOL_REACHED\n",
      "      From worker 6:\tsite = 31\tpl = 1.2521\ttime = 11.4830\tstatus = FTOL_REACHED\n",
      "      From worker 5:\tsite = 26\tpl = 1.3059\ttime = 7.9317\tstatus = FTOL_REACHED\n",
      "      From worker 8:\tsite = 42\tpl = 0.8276\ttime = 18.7107\tstatus = FTOL_REACHED\n",
      "      From worker 9:\tsite = 48\tpl = 0.5210\ttime = 16.5134\tstatus = FTOL_REACHED\n",
      "      From worker 7:\tsite = 37\tpl = 1.0145\ttime = 12.6733\tstatus = FTOL_REACHED\n",
      "      From worker 6:\tsite = 32\tpl = 1.0711\ttime = 10.9473\tstatus = FTOL_REACHED\n",
      "      From worker 5:\tsite = 27\tpl = 1.2168\ttime = 8.4689\tstatus = FTOL_REACHED\n",
      "      From worker 5:\tsite = 28\tpl = 1.2098\ttime = 8.9673\tstatus = FTOL_REACHED\n",
      "      From worker 8:\tsite = 43\tpl = 0.7563\ttime = 17.0067\tstatus = FTOL_REACHED\n",
      "      From worker 6:\tsite = 33\tpl = 1.0510\ttime = 11.2567\tstatus = FTOL_REACHED\n",
      "      From worker 7:\tsite = 38\tpl = 0.7931\ttime = 15.7891\tstatus = FTOL_REACHED\n",
      "      From worker 9:\tsite = 49\tpl = 0.7538\ttime = 18.5014\tstatus = FTOL_REACHED\n",
      "      From worker 6:\tsite = 34\tpl = 1.1771\ttime = 9.8916\tstatus = FTOL_REACHED\n",
      "      From worker 7:\tsite = 39\tpl = 1.0007\ttime = 11.3459\tstatus = FTOL_REACHED\n",
      "      From worker 8:\tsite = 44\tpl = 0.7457\ttime = 15.5953\tstatus = FTOL_REACHED\n",
      "      From worker 9:\tsite = 50\tpl = 0.4041\ttime = 16.0213\tstatus = FTOL_REACHED\n",
      "      From worker 7:\tsite = 40\tpl = 0.7528\ttime = 10.7503\tstatus = FTOL_REACHED\n",
      "      From worker 8:\tsite = 45\tpl = 0.5670\ttime = 13.9480\tstatus = FTOL_REACHED\n",
      "      From worker 9:\tsite = 51\tpl = 0.4250\ttime = 15.9359\tstatus = FTOL_REACHED\n",
      "      From worker 8:\tsite = 46\tpl = 0.7798\ttime = 13.0393\tstatus = FTOL_REACHED\n",
      "      From worker 9:\tsite = 52\tpl = 0.4436\ttime = 15.2726\tstatus = FTOL_REACHED\n"
     ]
    }
   ],
   "source": [
    "runardca!(out,family,lambdaJ=1e-6, lambdaH=1e-6);"
   ]
  },
  {
   "source": [
    "## Sampling\n",
    "\n",
    "The following produces `Msample` samples. By default, `Msample` is number of samples from the original alignment, but it can be changed as a keyword argument. We also run PlmDCA on the true alignment, and the generated one."
   ],
   "cell_type": "markdown",
   "metadata": {}
  },
  {
   "cell_type": "code",
   "execution_count": 4,
   "metadata": {
    "tags": []
   },
   "outputs": [
    {
     "output_type": "stream",
     "name": "stdout",
     "text": [
      "      From worker 8:\tsite = 42\t pl = 0.2682\t time = 1.0524\texit status = FTOL_REACHED\n",
      "      From worker 9:\tsite = 48\t pl = 0.0774\t time = 1.2597\texit status = FTOL_REACHED\n",
      "      From worker 5:\tsite = 22\t pl = 2.4594\t time = 1.7938\texit status = FTOL_REACHED\n",
      "      From worker 2:\tsite = 1\t pl = 1.5107\t time = 1.9067\texit status = FTOL_REACHED\n",
      "      From worker 7:\tsite = 36\t pl = 1.9025\t time = 2.0392\texit status = FTOL_REACHED\n",
      "      From worker 3:\tsite = 8\t pl = 2.3848\t time = 2.0818\texit status = FTOL_REACHED\n",
      "      From worker 4:\tsite = 15\t pl = 2.3046\t time = 2.1230\texit status = FTOL_REACHED\n",
      "      From worker 6:\tsite = 29\t pl = 2.2547\t time = 2.2261\texit status = FTOL_REACHED\n",
      "      From worker 8:\tsite = 43\t pl = 2.3820\t time = 2.2441\texit status = FTOL_REACHED\n",
      "      From worker 2:\tsite = 2\t pl = 0.1336\t time = 1.5797\texit status = FTOL_REACHED\n",
      "      From worker 7:\tsite = 37\t pl = 0.5627\t time = 1.4959\texit status = FTOL_REACHED\n",
      "      From worker 9:\tsite = 49\t pl = 2.0526\t time = 2.4020\texit status = FTOL_REACHED\n",
      "      From worker 3:\tsite = 9\t pl = 0.3350\t time = 1.6680\texit status = FTOL_REACHED\n",
      "      From worker 6:\tsite = 30\t pl = 0.4021\t time = 1.5797\texit status = FTOL_REACHED\n",
      "      From worker 5:\tsite = 23\t pl = 2.4610\t time = 2.2057\texit status = FTOL_REACHED\n",
      "      From worker 4:\tsite = 16\t pl = 2.3402\t time = 2.0069\texit status = FTOL_REACHED\n",
      "      From worker 7:\tsite = 38\t pl = 0.5466\t time = 1.1968\texit status = FTOL_REACHED\n",
      "      From worker 2:\tsite = 3\t pl = 2.4467\t time = 1.3451\texit status = FTOL_REACHED\n",
      "      From worker 8:\tsite = 44\t pl = 1.2685\t time = 1.6220\texit status = FTOL_REACHED\n",
      "      From worker 9:\tsite = 50\t pl = 2.3872\t time = 1.5405\texit status = FTOL_REACHED\n",
      "      From worker 3:\tsite = 10\t pl = 2.1754\t time = 1.4987\texit status = FTOL_REACHED\n",
      "      From worker 6:\tsite = 31\t pl = 2.4189\t time = 1.5780\texit status = FTOL_REACHED\n",
      "      From worker 4:\tsite = 17\t pl = 1.1077\t time = 1.3584\texit status = FTOL_REACHED\n",
      "      From worker 5:\tsite = 24\t pl = 2.1543\t time = 1.6008\texit status = FTOL_REACHED\n",
      "      From worker 7:\tsite = 39\t pl = 2.2219\t time = 1.4772\texit status = FTOL_REACHED\n",
      "      From worker 2:\tsite = 4\t pl = 1.6904\t time = 1.4460\texit status = FTOL_REACHED\n",
      "      From worker 3:\tsite = 11\t pl = 0.3773\t time = 1.1585\texit status = FTOL_REACHED\n",
      "      From worker 8:\tsite = 45\t pl = 2.0872\t time = 1.6297\texit status = FTOL_REACHED\n",
      "      From worker 9:\tsite = 51\t pl = 2.3572\t time = 1.4642\texit status = FTOL_REACHED\n",
      "      From worker 6:\tsite = 32\t pl = 0.6944\t time = 1.3202\texit status = FTOL_REACHED\n",
      "      From worker 4:\tsite = 18\t pl = 1.0024\t time = 1.2896\texit status = FTOL_REACHED\n",
      "      From worker 5:\tsite = 25\t pl = 2.0182\t time = 1.7014\texit status = FTOL_REACHED\n",
      "      From worker 2:\tsite = 5\t pl = 1.5956\t time = 1.2859\texit status = FTOL_REACHED\n",
      "      From worker 3:\tsite = 12\t pl = 2.3374\t time = 1.6637\texit status = FTOL_REACHED\n",
      "      From worker 6:\tsite = 33\t pl = 1.4360\t time = 1.3885\texit status = FTOL_REACHED\n",
      "      From worker 4:\tsite = 19\t pl = 1.3555\t time = 1.4378\texit status = FTOL_REACHED\n",
      "      From worker 8:\tsite = 46\t pl = 2.1241\t time = 1.7025\texit status = FTOL_REACHED\n",
      "      From worker 9:\tsite = 52\t pl = 0.1370\t time = 1.7527\texit status = FTOL_REACHED\n",
      "      From worker 7:\tsite = 40\t pl = 0.1283\t time = 2.2517\texit status = FTOL_REACHED\n",
      "      From worker 5:\tsite = 26\t pl = 2.2863\t time = 1.7781\texit status = FTOL_REACHED\n",
      "      From worker 6:\tsite = 34\t pl = 0.3787\t time = 1.0941\texit status = FTOL_REACHED\n",
      "      From worker 2:\tsite = 6\t pl = 2.1732\t time = 1.7438\texit status = FTOL_REACHED\n",
      "      From worker 8:\tsite = 47\t pl = 1.8870\t time = 1.1918\texit status = FTOL_REACHED\n",
      "      From worker 4:\tsite = 20\t pl = 0.8434\t time = 1.2140\texit status = FTOL_REACHED\n",
      "      From worker 3:\tsite = 13\t pl = 2.0456\t time = 1.4878\texit status = FTOL_REACHED\n",
      "      From worker 5:\tsite = 27\t pl = 0.0642\t time = 0.6068\texit status = FTOL_REACHED\n",
      "      From worker 7:\tsite = 41\t pl = 1.0212\t time = 1.2688\texit status = FTOL_REACHED\n",
      "      From worker 9:\tsite = 53\t pl = 1.1524\t time = 1.3811\texit status = FTOL_REACHED\n",
      "      From worker 6:\tsite = 35\t pl = 0.6579\t time = 0.8950\texit status = FTOL_REACHED\n",
      "      From worker 4:\tsite = 21\t pl = 1.0108\t time = 0.9965\texit status = FTOL_REACHED\n",
      "      From worker 2:\tsite = 7\t pl = 1.9444\t time = 1.1658\texit status = FTOL_REACHED\n",
      "      From worker 3:\tsite = 14\t pl = 2.4984\t time = 1.0926\texit status = FTOL_REACHED\n",
      "      From worker 5:\tsite = 28\t pl = 2.1039\t time = 1.2029\texit status = FTOL_REACHED\n",
      "removing duplicate sequences... done: 13600 -> 8871\n",
      "theta = 0.33088461264010915 threshold = 17.0\n",
      "M = 8871 N = 53 Meff = 2950.925530761667\n",
      "      From worker 8:\tsite = 42\t pl = 0.2732\t time = 0.9443\texit status = FTOL_REACHED\n",
      "      From worker 9:\tsite = 48\t pl = 0.0750\t time = 1.0182\texit status = FTOL_REACHED\n",
      "      From worker 2:\tsite = 1\t pl = 1.5333\t time = 1.3027\texit status = FTOL_REACHED\n",
      "      From worker 7:\tsite = 36\t pl = 1.9121\t time = 1.3776\texit status = FTOL_REACHED\n",
      "      From worker 5:\tsite = 22\t pl = 2.4443\t time = 1.4197\texit status = FTOL_REACHED\n",
      "      From worker 4:\tsite = 15\t pl = 2.2612\t time = 1.4542\texit status = FTOL_REACHED\n",
      "      From worker 3:\tsite = 8\t pl = 2.3840\t time = 1.4589\texit status = FTOL_REACHED\n",
      "      From worker 6:\tsite = 29\t pl = 2.2715\t time = 1.5341\texit status = FTOL_REACHED\n",
      "      From worker 2:\tsite = 2\t pl = 0.1329\t time = 0.8729\texit status = FTOL_REACHED\n",
      "      From worker 7:\tsite = 37\t pl = 0.5812\t time = 0.9222\texit status = FTOL_REACHED\n",
      "      From worker 8:\tsite = 43\t pl = 2.3660\t time = 1.3660\texit status = FTOL_REACHED\n",
      "      From worker 9:\tsite = 49\t pl = 2.0650\t time = 1.3037\texit status = FTOL_REACHED\n",
      "      From worker 3:\tsite = 9\t pl = 0.3591\t time = 0.9515\texit status = FTOL_REACHED\n",
      "      From worker 6:\tsite = 30\t pl = 0.4148\t time = 0.9861\texit status = FTOL_REACHED\n",
      "      From worker 5:\tsite = 23\t pl = 2.4834\t time = 1.3303\texit status = FTOL_REACHED\n",
      "      From worker 4:\tsite = 16\t pl = 2.3269\t time = 1.3732\texit status = FTOL_REACHED\n",
      "      From worker 7:\tsite = 38\t pl = 0.5916\t time = 0.9641\texit status = FTOL_REACHED\n",
      "      From worker 2:\tsite = 3\t pl = 2.4286\t time = 1.3765\texit status = FTOL_REACHED\n",
      "      From worker 8:\tsite = 44\t pl = 1.2732\t time = 1.3816\texit status = FTOL_REACHED\n",
      "      From worker 9:\tsite = 50\t pl = 2.3847\t time = 1.4649\texit status = FTOL_REACHED\n",
      "      From worker 3:\tsite = 10\t pl = 2.1870\t time = 1.4060\texit status = FTOL_REACHED\n",
      "      From worker 6:\tsite = 31\t pl = 2.3873\t time = 1.4249\texit status = FTOL_REACHED\n",
      "      From worker 4:\tsite = 17\t pl = 1.1299\t time = 1.1744\texit status = FTOL_REACHED\n",
      "      From worker 5:\tsite = 24\t pl = 2.1778\t time = 1.2535\texit status = FTOL_REACHED\n",
      "      From worker 3:\tsite = 11\t pl = 0.3657\t time = 0.9098\texit status = FTOL_REACHED\n",
      "      From worker 2:\tsite = 4\t pl = 1.6950\t time = 1.1893\texit status = FTOL_REACHED\n",
      "      From worker 7:\tsite = 39\t pl = 2.2403\t time = 1.5079\texit status = FTOL_REACHED\n",
      "      From worker 4:\tsite = 18\t pl = 1.0290\t time = 0.9427\texit status = FTOL_REACHED\n",
      "      From worker 8:\tsite = 45\t pl = 2.0707\t time = 1.4433\texit status = FTOL_REACHED\n",
      "      From worker 6:\tsite = 32\t pl = 0.7241\t time = 1.2803\texit status = FTOL_REACHED\n",
      "      From worker 9:\tsite = 51\t pl = 2.3458\t time = 1.5448\texit status = FTOL_REACHED\n",
      "      From worker 5:\tsite = 25\t pl = 2.0443\t time = 1.4648\texit status = FTOL_REACHED\n",
      "      From worker 2:\tsite = 5\t pl = 1.5865\t time = 1.0819\texit status = FTOL_REACHED\n",
      "      From worker 3:\tsite = 12\t pl = 2.3151\t time = 1.3231\texit status = FTOL_REACHED\n",
      "      From worker 4:\tsite = 19\t pl = 1.3679\t time = 1.2153\texit status = FTOL_REACHED\n",
      "      From worker 6:\tsite = 33\t pl = 1.4584\t time = 1.1756\texit status = FTOL_REACHED\n",
      "      From worker 8:\tsite = 46\t pl = 2.1587\t time = 1.4501\texit status = FTOL_REACHED\n",
      "      From worker 7:\tsite = 40\t pl = 0.1383\t time = 1.8699\texit status = FTOL_REACHED\n",
      "      From worker 9:\tsite = 52\t pl = 0.1327\t time = 1.4990\texit status = FTOL_REACHED\n",
      "      From worker 5:\tsite = 26\t pl = 2.2762\t time = 1.4598\texit status = FTOL_REACHED\n",
      "      From worker 4:\tsite = 20\t pl = 0.8407\t time = 1.0674\texit status = FTOL_REACHED\n",
      "      From worker 2:\tsite = 6\t pl = 2.1671\t time = 1.5494\texit status = FTOL_REACHED\n",
      "      From worker 3:\tsite = 13\t pl = 2.0157\t time = 1.4010\texit status = FTOL_REACHED\n",
      "      From worker 6:\tsite = 34\t pl = 0.3827\t time = 1.0661\texit status = FTOL_REACHED\n",
      "      From worker 5:\tsite = 27\t pl = 0.0601\t time = 0.7220\texit status = FTOL_REACHED\n",
      "      From worker 8:\tsite = 47\t pl = 1.9005\t time = 1.2309\texit status = FTOL_REACHED\n",
      "      From worker 7:\tsite = 41\t pl = 1.0497\t time = 1.2214\texit status = FTOL_REACHED\n",
      "      From worker 9:\tsite = 53\t pl = 1.1602\t time = 1.1259\texit status = FTOL_REACHED\n",
      "      From worker 6:\tsite = 35\t pl = 0.6614\t time = 0.7943\texit status = FTOL_REACHED\n",
      "      From worker 4:\tsite = 21\t pl = 0.9987\t time = 1.1405\texit status = FTOL_REACHED\n",
      "      From worker 2:\tsite = 7\t pl = 1.9566\t time = 0.9960\texit status = FTOL_REACHED\n",
      "      From worker 3:\tsite = 14\t pl = 2.4611\t time = 1.0722\texit status = FTOL_REACHED\n",
      "      From worker 5:\tsite = 28\t pl = 2.0550\t time = 1.1367\texit status = FTOL_REACHED\n"
     ]
    }
   ],
   "source": [
    "sample_and_analyze_results!(out,family)\n"
   ]
  },
  {
   "source": [
    "## Plotting  the results"
   ],
   "cell_type": "markdown",
   "metadata": {}
  },
  {
   "cell_type": "code",
   "execution_count": 24,
   "metadata": {},
   "outputs": [
    {
     "output_type": "display_data",
     "data": {
      "text/plain": "Figure(PyObject <Figure size 640x480 with 1 Axes>)",
      "image/png": "[encoded data removed]"
     },
     "metadata": {}
    },
    {
     "output_type": "execute_result",
     "data": {
      "text/plain": [
       "(0.7022602821872387, 1673.1688090637567)"
      ]
     },
     "metadata": {},
     "execution_count": 24
    }
   ],
   "source": [
    "include(\"notebook/script.jl\")\n",
    "plotres(out)"
   ]
  },
  {
   "cell_type": "code",
   "execution_count": null,
   "metadata": {},
   "outputs": [],
   "source": []
  }
 ]
}