{
 "cells": [
  {
   "cell_type": "markdown",
   "metadata": {},
   "source": [
    "# Tutorial\n",
    "\n",
    "This notebook provides a basic tutorial on how to implement three basic tasks using the [ArDCA](https://github.com/pagnani/ArDCAData) package in [Julia](https://julialang.org/). We will assume we have a Multiple Sequence Alignment (MSA)in FASTA format. We aim at\n",
    "\n",
    "1. Given a MSA, generate a sample\n",
    "2. Given a MSA, predict contacts\n",
    "3. Given a MSA, predict the mutational effect in all (ungapped) position of a given target sequence \n"
   ]
  },
  {
   "cell_type": "markdown",
   "metadata": {},
   "source": [
    "## Installing the software\n",
    "\n",
    "1. Install [julia-1.5.3](https://julialang.org/downloads/)\n",
    "\n",
    "2. Install the ipynb interface in julia, you should add the [IJulia](https://github.com/JuliaLang/IJulia.jl) package using the package manager. Again, from the package manager prompt do a\n",
    "```\n",
    "(@v1.5) pkg> add IJulia \n",
    "```\n",
    "Exit the Package Manager (type `backspace` or `delete`) and from julia prompt do a \n",
    "```\n",
    "julia> using IJulia\n",
    "julia> notebook()\n",
    "```\n",
    "The ipynb file manager should open a page on your browser and from there you should navigate to this notebook.\n"
   ]
  },
  {
   "cell_type": "markdown",
   "metadata": {},
   "source": [
    "## Load ArDCA package \n",
    "\n",
    "The following cell loads the package `ArDCA` on `nprocs` workers (here `nprocs=8`) (*Warning*: the first time it takes a while)\n",
    "\n",
    "\n",
    "* The `mypkgdir` variable should be set to your `path/to/package` dir.\n",
    "\n",
    "In this notebook we will use the PF00014 protein family available in `data/PF14/` folder of the package/\n"
   ]
  },
  {
   "cell_type": "code",
   "execution_count": 1,
   "metadata": {},
   "outputs": [
    {
     "name": "stdout",
     "output_type": "stream",
     "text": [
      "      From worker 3:\t Activating environment at `~/CODE/ArDCA/Project.toml`\n",
      "      From worker 2:\t Activating environment at `~/CODE/ArDCA/Project.toml`\n",
      "      From worker 6:\t Activating environment at `~/CODE/ArDCA/Project.toml`\n",
      "      From worker 8:\t Activating environment at `~/CODE/ArDCA/Project.toml`\n",
      "      From worker 5:\t Activating environment at `~/CODE/ArDCA/Project.toml`\n",
      "      From worker 4:\t Activating environment at `~/CODE/ArDCA/Project.toml`\n",
      "      From worker 9:\t Activating environment at `~/CODE/ArDCA/Project.toml`\n",
      "      From worker 7:\t Activating environment at `~/CODE/ArDCA/Project.toml`\n"
     ]
    },
    {
     "name": "stderr",
     "output_type": "stream",
     "text": [
      "\u001b[32m\u001b[1m Activating\u001b[22m\u001b[39m environment at `~/CODE/ArDCA/Project.toml`\n",
      "┌ Info: Precompiling ArDCA [fc7e833f-a3b9-439d-ae82-c6ad11a3e54b]\n",
      "└ @ Base loading.jl:1278\n"
     ]
    }
   ],
   "source": [
    "mypkgdir = normpath(joinpath(pwd(),\"..\"))\n",
    "cd(mypkgdir)\n",
    "using Distributed\n",
    "nprocs = 8\n",
    "addprocs(nprocs) # choose the number of cores that you want to use (here nprocs=8)\n",
    "@everywhere using Pkg\n",
    "@everywhere Pkg.activate(\".\")\n",
    "@everywhere using ArDCA"
   ]
  },
  {
   "cell_type": "markdown",
   "metadata": {},
   "source": [
    "## Learn the autoregressive parameters\n",
    "\n",
    "As a preliminary step, we learn the field and the coupling parameters $h,J$ from the MSA. To do so we use the `ardca` method that return the parameters (stored in `arnet` in the cell below), and the alignment in numerical format and other algorithms variables (stored in `arvar` in the cell below). The default autoregressive order is set to `:ENTROPIC`. We set the $L_2$ regularization to 0.02 for the $J$ and 0.001 for the $h$.\n",
    "\n",
    "The keywork arguments for the `ardca` method are (with their default value):\n",
    "\n",
    "* `epsconv::Real=1.0e-5` (convergenge parameter)\n",
    "\n",
    "* `maxit::Int=1000` (maximum number of iteration - don't change)\n",
    "\n",
    "* `verbose::Bool=true` (set to `false` to suppress printing on screen)\n",
    "\n",
    "* `method::Symbol=:LD_LBFGS` (optimization method)\n",
    "\n",
    "* `permorder::Union{Symbol,Vector{Ti}}=:ENTROPIC` (permutation order). Possible values are: `[:NATURAL, :ENTROPIC, :REV_ENTROPIC, :RANDOM]` or a custom permutation vector.\n",
    "\n",
    "\n"
   ]
  },
  {
   "cell_type": "code",
   "execution_count": 2,
   "metadata": {},
   "outputs": [
    {
     "name": "stdout",
     "output_type": "stream",
     "text": [
      "removing duplicate sequences... done: 13600 -> 8871\n",
      "M = 8871 N = 53 Meff = 2950.9255307616663 theta = 0.3308846126401137\n"
     ]
    }
   ],
   "source": [
    "arnet,arvar=ardca(\"data/PF14/PF00014_mgap6.fasta.gz\", verbose=false, lambdaJ=0.02,lambdaH=0.001);"
   ]
  },
  {
   "cell_type": "markdown",
   "metadata": {},
   "source": [
    "## 1. Sequence Generation\n",
    "\n",
    "We now generate `M` sequences using the `sample` method:"
   ]
  },
  {
   "cell_type": "code",
   "execution_count": 3,
   "metadata": {},
   "outputs": [],
   "source": [
    "M = 1_000;\n",
    "generated_alignment = sample(arnet,M);"
   ]
  },
  {
   "cell_type": "markdown",
   "metadata": {},
   "source": [
    "The generated alignment has is a $L\\times M$ matrix of integer where $L$ is the alignment's length, and $M$ the number of samples.\n",
    "\n",
    "Interestingly, we for each sequence we can also compute the likelihood with the `sample_with_weights` method."
   ]
  },
  {
   "cell_type": "code",
   "execution_count": 4,
   "metadata": {},
   "outputs": [],
   "source": [
    "loglikelihood,generated_alignment = sample_with_weights(arnet,M);"
   ]
  },
  {
   "cell_type": "markdown",
   "metadata": {},
   "source": [
    "## 2. Contact Prediction\n",
    "\n",
    "We can compute the epistatic score for residue-residue contact prediction. To do so, we can use the `epistatic_score` method. The epistatic score is computed on any target sequence of the MSA. Empirically, it turns out the the final score does not depend much on the choice of the target sequence. \n",
    "\n",
    "The autput is contained in a `Vector` of `Tuple` ranked in descendic score order. Each `Tuple` contains $i,j,s_{ij}$ where $s_{ij}$ is the epistatic score of the residue pair $i,j$. The residue numbering is that of the MSA, and not of the unaligned full sequences."
   ]
  },
  {
   "cell_type": "code",
   "execution_count": 5,
   "metadata": {},
   "outputs": [
    {
     "data": {
      "text/plain": [
       "1378-element Array{Tuple{Int64,Int64,Float64},1}:\n",
       " (11, 35, 1.4170400334677726)\n",
       " (17, 41, 1.10593007716442)\n",
       " (21, 28, 1.0808850152980345)\n",
       " (45, 49, 0.7621114678424217)\n",
       " (6, 19, 0.6633330961068219)\n",
       " (17, 43, 0.5931715290477366)\n",
       " (18, 45, 0.5576410659908957)\n",
       " (13, 15, 0.5351640005192606)\n",
       " (10, 33, 0.5185564555706912)\n",
       " (24, 28, 0.48032213394096684)\n",
       " (19, 28, 0.4694920759570835)\n",
       " (37, 38, 0.42761260454811656)\n",
       " (44, 47, 0.41187795827863044)\n",
       " ⋮\n",
       " (12, 38, -0.12695136399636134)\n",
       " (37, 43, -0.1276334479959319)\n",
       " (7, 18, -0.12912649249480815)\n",
       " (35, 38, -0.13107173348549575)\n",
       " (28, 37, -0.1331229870092951)\n",
       " (20, 33, -0.13475007398011996)\n",
       " (28, 38, -0.13907534306887712)\n",
       " (15, 38, -0.13961353799510184)\n",
       " (11, 31, -0.14050857169554834)\n",
       " (11, 45, -0.14121866874682137)\n",
       " (33, 41, -0.14537808198988605)\n",
       " (11, 41, -0.15252388018123988)"
      ]
     },
     "execution_count": 5,
     "metadata": {},
     "output_type": "execute_result"
    }
   ],
   "source": [
    "target_sequence = 1\n",
    "score=epistatic_score(arnet,arvar,target_sequence)"
   ]
  },
  {
   "cell_type": "markdown",
   "metadata": {},
   "source": [
    "## 3. Predicting mutational effects\n",
    "\n",
    "For any reference sequence, we can easily predict the mutational effect for all single mutants. Of course we can extract this information only for the *non-gapped* residues of the target sequence. \n",
    "\n",
    "This is done with the `dms_single_site` method, which returns a `q×L` matrix `D` containing $\\log(P(mut))/\\log(P(wt))$ for all single\n",
    "site mutants of the reference sequence `seqid` (i.e. the so-called wild type sequence), and `idxgap` a vector of indices of the residues of the reference sequence that contain gaps (i.e. the 21\n",
    "amino-acid) for which the score has no sense and is set by convention to `+Inf`.\n",
    "\n",
    "A negative value indicate a beneficial mutation, a value 0 indicate\n",
    "the wild-type amino-acid."
   ]
  },
  {
   "cell_type": "code",
   "execution_count": 6,
   "metadata": {},
   "outputs": [
    {
     "data": {
      "text/plain": [
       "([Inf 6.9360223404716805 … 6.937858289924648 Inf; Inf 0.0 … 0.0 Inf; … ; Inf 6.9360223404716805 … 6.937858289924648 Inf; Inf 2.90962217436406 … 3.4532928754048555 Inf], [18, 23])"
      ]
     },
     "execution_count": 6,
     "metadata": {},
     "output_type": "execute_result"
    }
   ],
   "source": [
    "target_sequence = 1\n",
    "D,idxgap=dms_single_site(arnet,arvar,target_sequence)"
   ]
  },
  {
   "cell_type": "code",
   "execution_count": 7,
   "metadata": {},
   "outputs": [
    {
     "data": {
      "text/plain": [
       "21×53 Array{Float64,2}:\n",
       " Inf  6.93602  1.76391   -0.615337    …  -2.22543   -1.07414    6.93786  Inf\n",
       " Inf  0.0      4.25414    2.31167         1.15868    2.50552    0.0      Inf\n",
       " Inf  6.93602  1.41607    0.0            -1.50571    1.54949    6.93786  Inf\n",
       " Inf  6.93602  1.38093   -1.55619        -2.58418    0.0728249  6.93786  Inf\n",
       " Inf  6.93602  1.52179    0.392003        0.0       -0.113285   6.93786  Inf\n",
       " Inf  6.93602  2.43433    0.43931     …  -0.544059   1.61108    6.93786  Inf\n",
       " Inf  6.93602  2.08625    0.148112       -0.818548   0.0        6.93786  Inf\n",
       " Inf  6.93602  2.34401    0.685034       -0.613174  -0.242488   6.93786  Inf\n",
       " Inf  6.93602  1.32683   -0.0908006      -2.52321   -0.890128   6.93786  Inf\n",
       " Inf  6.93602  0.0       -2.45168        -1.44878   -0.628336   6.93786  Inf\n",
       " Inf  6.93602  1.96021   -0.760595    …  -0.492249   0.0808935  6.93786  Inf\n",
       " Inf  6.93602  1.02573    1.48681        -2.04058    0.461729   6.93786  Inf\n",
       " Inf  6.93602  4.07353    1.46396         1.25433    2.65274    6.93786  Inf\n",
       " Inf  6.93602  1.53223   -1.60922        -2.19479   -0.296724   6.93786  Inf\n",
       " Inf  6.93602  1.5984     0.692373       -2.62977   -1.03127    6.93786  Inf\n",
       " Inf  6.93602  0.752423  -7.51984e-5  …  -2.38565   -0.456683   6.93786  Inf\n",
       " Inf  6.93602  0.905478   1.07311        -1.35964   -1.29051    6.93786  Inf\n",
       " Inf  6.93602  2.35741    0.494759       -0.423833  -0.652489   6.93786  Inf\n",
       " Inf  6.93602  3.64814    2.01925         0.213792   2.30594    6.93786  Inf\n",
       " Inf  6.93602  1.59067    0.627474       -0.400519  -0.192659   6.93786  Inf\n",
       " Inf  2.90962  1.44997   -0.569194    …  -0.247733   0.12636    3.45329  Inf"
      ]
     },
     "execution_count": 7,
     "metadata": {},
     "output_type": "execute_result"
    }
   ],
   "source": [
    "D"
   ]
  },
  {
   "cell_type": "code",
   "execution_count": 8,
   "metadata": {},
   "outputs": [
    {
     "data": {
      "text/plain": [
       "2-element Array{Int64,1}:\n",
       " 18\n",
       " 23"
      ]
     },
     "execution_count": 8,
     "metadata": {},
     "output_type": "execute_result"
    }
   ],
   "source": [
    "idxgap"
   ]
  },
  {
   "cell_type": "code",
   "execution_count": null,
   "metadata": {},
   "outputs": [],
   "source": []
  }
 ],
 "metadata": {
  "@webio": {
   "lastCommId": null,
   "lastKernelId": null
  },
  "kernelspec": {
   "display_name": "Julia 1.5.3",
   "language": "julia",
   "name": "julia-1.5"
  },
  "language_info": {
   "file_extension": ".jl",
   "mimetype": "application/julia",
   "name": "julia",
   "version": "1.5.3"
  }
 },
 "nbformat": 4,
 "nbformat_minor": 2
}
