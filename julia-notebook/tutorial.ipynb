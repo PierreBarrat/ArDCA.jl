{
 "cells": [
  {
   "cell_type": "markdown",
   "metadata": {},
   "source": [
    "# Tutorial\n",
    "\n",
    "This notebook provides a basic tutorial on how to implement three basic tasks using the [ArDCA](https://github.com/pagnani/ArDCAData) package in [Julia](https://julialang.org/). We will assume we have a Multiple Sequence Alignment (MSA)in FASTA format. We aim at\n",
    "\n",
    "1. Given a MSA, generate a sample\n",
    "2. Given a MSA, predict contacts\n",
    "3. Given a MSA, predict the mutational effect in all (ungapped) position of a given target sequence \n"
   ]
  },
  {
   "cell_type": "markdown",
   "metadata": {},
   "source": [
    "## Installing the software\n",
    "\n",
    "1. Install [julia-1.5.3](https://julialang.org/downloads/)\n",
    "\n",
    "2. Install the ipynb interface in julia, you should add the [IJulia](https://github.com/JuliaLang/IJulia.jl) package using the package manager. Again, from the package manager prompt do a\n",
    "```\n",
    "(@v1.5) pkg> add IJulia \n",
    "```\n",
    "Exit the Package Manager (type `backspace` or `delete`) and from julia prompt do a \n",
    "```\n",
    "julia> using IJulia\n",
    "julia> notebook()\n",
    "```\n",
    "The ipynb file manager should open a page on your browser and from there you should navigate to this notebook.\n"
   ]
  },
  {
   "cell_type": "markdown",
   "metadata": {},
   "source": [
    "## Load ArDCA package \n",
    "\n",
    "The following cell loads the package `ArDCA` on `nprocs` workers (here `nprocs=8`) (*Warning*: the first time it takes a while)\n",
    "\n",
    "\n",
    "* The `mypkgdir` variable should be set to your `path/to/package` dir.\n",
    "\n",
    "In this notebook we will use the PF00014 protein family available in `data/PF14/` folder of the package/\n"
   ]
  },
  {
   "cell_type": "code",
   "execution_count": null,
   "metadata": {},
   "outputs": [
    {
     "name": "stdout",
     "output_type": "stream",
     "text": [
      "      From worker 2:\t Activating environment at `~/CODE/ArDCA/Project.toml`\n",
      "      From worker 4:\t Activating environment at `~/CODE/ArDCA/Project.toml`\n",
      "      From worker 9:\t Activating environment at `~/CODE/ArDCA/Project.toml`\n",
      "      From worker 5:\t Activating environment at `~/CODE/ArDCA/Project.toml`\n",
      "      From worker 8:\t Activating environment at `~/CODE/ArDCA/Project.toml`\n",
      "      From worker 3:\t Activating environment at `~/CODE/ArDCA/Project.toml`\n",
      "      From worker 6:\t Activating environment at `~/CODE/ArDCA/Project.toml`\n",
      "      From worker 7:\t Activating environment at `~/CODE/ArDCA/Project.toml`\n"
     ]
    },
    {
     "name": "stderr",
     "output_type": "stream",
     "text": [
      "\u001b[32m\u001b[1m Activating\u001b[22m\u001b[39m environment at `~/CODE/ArDCA/Project.toml`\n",
      "┌ Info: Precompiling ArDCA [fc7e833f-a3b9-439d-ae82-c6ad11a3e54b]\n",
      "└ @ Base loading.jl:1278\n"
     ]
    }
   ],
   "source": [
    "mypkgdir = normpath(joinpath(pwd(),\"..\"))\n",
    "cd(mypkgdir)\n",
    "using Distributed\n",
    "nprocs = 8\n",
    "addprocs(nprocs) # choose the number of cores that you want to use (here nprocs=8)\n",
    "@everywhere using Pkg\n",
    "@everywhere Pkg.activate(\".\")\n",
    "@everywhere using ArDCA"
   ]
  },
  {
   "cell_type": "markdown",
   "metadata": {},
   "source": [
    "## Learn the autoregressive parameters\n",
    "\n",
    "As a preliminary step, we learn the field and the coupling parameters $h,J$ from the MSA. To do so we use the `ardca` method that return the parameters (stored in `arnet` in the cell below), and the alignment in numerical format and other algorithms variables (stored in `arvar` in the cell below). The default autoregressive order is set to `:ENTROPIC`. We set the $L_2$ regularization to 0.02 for the $J$ and 0.001 for the $h$.\n",
    "\n",
    "The keywork arguments for the `ardca` method are (with their default value):\n",
    "\n",
    "* `epsconv::Real=1.0e-5` (convergenge parameter)\n",
    "\n",
    "* `maxit::Int=1000` (maximum number of iteration - don't change)\n",
    "\n",
    "* `verbose::Bool=true` (set to `false` to suppress printing on screen)\n",
    "\n",
    "* `method::Symbol=:LD_LBFGS` (optimization method)\n",
    "\n",
    "* `permorder::Union{Symbol,Vector{Ti}}=:ENTROPIC` (permutation order). Possible values are: `[:NATURAL, :ENTROPIC, :REV_ENTROPIC, :RANDOM]` or a custom permutation vector.\n",
    "\n",
    "\n"
   ]
  },
  {
   "cell_type": "code",
   "execution_count": null,
   "metadata": {},
   "outputs": [],
   "source": [
    "arnet,arvar=ardca(\"data/PF14/PF00014_mgap6.fasta.gz\", verbose=false, lambdaJ=0.02,lambdaH=0.001);"
   ]
  },
  {
   "cell_type": "markdown",
   "metadata": {},
   "source": [
    "## 1. Sequence Generation\n",
    "\n",
    "We now generate `M` sequences using the `sample` method:"
   ]
  },
  {
   "cell_type": "code",
   "execution_count": null,
   "metadata": {},
   "outputs": [],
   "source": [
    "M = 1_000;\n",
    "generated_alignment = sample(arnet,M);"
   ]
  },
  {
   "cell_type": "markdown",
   "metadata": {},
   "source": [
    "The generated alignment has is a $L\\times M$ matrix of integer where $L$ is the alignment's length, and $M$ the number of samples.\n",
    "\n",
    "Interestingly, we for each sequence we can also compute the likelihood with the `sample_with_weights` method."
   ]
  },
  {
   "cell_type": "code",
   "execution_count": null,
   "metadata": {},
   "outputs": [],
   "source": [
    "loglikelihood,generated_alignment = sample_with_weights(arnet,M);"
   ]
  },
  {
   "cell_type": "markdown",
   "metadata": {},
   "source": [
    "## 2. Contact Prediction\n",
    "\n",
    "We can compute the epistatic score for residue-residue contact prediction. To do so, we can use the `epistatic_score` method. The epistatic score is computed on any target sequence of the MSA. Empirically, it turns out the the final score does not depend much on the choice of the target sequence. \n",
    "\n",
    "The autput is contained in a `Vector` of `Tuple` ranked in descendic score order. Each `Tuple` contains $i,j,s_{ij}$ where $s_{ij}$ is the epistatic score of the residue pair $i,j$. The residue numbering is that of the MSA, and not of the unaligned full sequences."
   ]
  },
  {
   "cell_type": "code",
   "execution_count": null,
   "metadata": {},
   "outputs": [],
   "source": [
    "target_sequence = 1\n",
    "score=epistatic_score(arnet,arvar,target_sequence)"
   ]
  },
  {
   "cell_type": "markdown",
   "metadata": {},
   "source": [
    "## 3. Predicting mutational effects\n",
    "\n",
    "For any reference sequence, we can easily predict the mutational effect for all single mutants. Of course we can extract this information only for the *non-gapped* residues of the target sequence. \n",
    "\n",
    "This is done with the `dms_single_site` method, which returns a `q×L` matrix `D` containing $\\log(P(mut))/\\log(P(wt))$ for all single\n",
    "site mutants of the reference sequence `seqid` (i.e. the so-called wild type sequence), and `idxgap` a vector of indices of the residues of the reference sequence that contain gaps (i.e. the 21\n",
    "amino-acid) for which the score has no sense and is set by convention to `+Inf`.\n",
    "\n",
    "A negative value indicate a beneficial mutation, a value 0 indicate\n",
    "the wild-type amino-acid."
   ]
  },
  {
   "cell_type": "code",
   "execution_count": null,
   "metadata": {},
   "outputs": [],
   "source": [
    "target_sequence = 1\n",
    "D,idxgap=dms_single_site(arnet,arvar,target_sequence)"
   ]
  },
  {
   "cell_type": "code",
   "execution_count": null,
   "metadata": {},
   "outputs": [],
   "source": [
    "D"
   ]
  },
  {
   "cell_type": "code",
   "execution_count": null,
   "metadata": {},
   "outputs": [],
   "source": [
    "idxgap"
   ]
  },
  {
   "cell_type": "code",
   "execution_count": null,
   "metadata": {},
   "outputs": [],
   "source": []
  }
 ],
 "metadata": {
  "@webio": {
   "lastCommId": null,
   "lastKernelId": null
  },
  "kernelspec": {
   "display_name": "Julia 1.5.3",
   "language": "julia",
   "name": "julia-1.5"
  },
  "language_info": {
   "file_extension": ".jl",
   "mimetype": "application/julia",
   "name": "julia",
   "version": "1.5.3"
  }
 },
 "nbformat": 4,
 "nbformat_minor": 2
}
