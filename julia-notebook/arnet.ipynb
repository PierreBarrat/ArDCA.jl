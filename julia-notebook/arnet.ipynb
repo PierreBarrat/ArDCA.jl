{
 "cells": [
  {
   "cell_type": "markdown",
   "metadata": {},
   "source": [
    "# Auto Regressive Network Inference \n",
    "\n",
    "To run this notebook:\n",
    "\n",
    "1. Install the [julia-1.5.3](https://julialang.org/downloads/)\n",
    "\n",
    "2. Install [PyPlot](https://github.com/JuliaPy/PyPlot.jl) package. To enter in the package manager, just type `]` and from the package manager prompt do a\n",
    "```\n",
    "(@v1.5) pkg> add PyPlot\n",
    "```\n",
    "\n",
    "3. Install the unregistered [PlmDCA](https://github.com/pagnani/PlmDCA) package. From the package manager prompt do a\n",
    "```\n",
    "(@v1.5) pkg> add https://github.com/pagnani/PlmDCA\n",
    "```\n",
    "\n",
    "4. Install the ipynb interface in julia, you should add the [IJulia](https://github.com/JuliaLang/IJulia.jl) package using the package manager. Again, from the package manager prompt do a\n",
    "```\n",
    "(@v1.5) pkg> add IJulia \n",
    "```\n",
    "Exit the Package Manager (type `backspace` or `delete`) and from julia prompt do a \n",
    "```\n",
    "julia> using IJulia\n",
    "julia> notebook()\n",
    "```\n",
    "The ipynb file manager should open a page on your browser and from there you should navigate to this notebook.\n"
   ]
  },
  {
   "cell_type": "markdown",
   "metadata": {},
   "source": [
    "## Load ArDCA package \n",
    "\n",
    "The following cell loads the package `ArDCA` on `nprocs` workers (here `nprocs=8`). The first time it takes a while. \n",
    "\n",
    "* The `mypkgdir` variable should be set to your `path/to/package` dir.\n",
    "\n",
    "* The `datadir` variable points to the `five families autoregressive` path we shared."
   ]
  },
  {
   "cell_type": "code",
   "execution_count": 1,
   "metadata": {},
   "outputs": [
    {
     "name": "stderr",
     "output_type": "stream",
     "text": [
      "┌ Info: Precompiling PyPlot [d330b81b-6aea-500a-939a-2ce795aea3ee]\n",
      "└ @ Base loading.jl:1278\n"
     ]
    },
    {
     "name": "stdout",
     "output_type": "stream",
     "text": [
      "      From worker 6:\t Activating environment at `~/CODE/ArDCA/Project.toml`\n",
      "      From worker 5:\t Activating environment at `~/CODE/ArDCA/Project.toml`\n",
      "      From worker 4:\t Activating environment at `~/CODE/ArDCA/Project.toml`\n",
      "      From worker 7:\t Activating environment at `~/CODE/ArDCA/Project.toml`\n",
      "      From worker 9:\t Activating environment at `~/CODE/ArDCA/Project.toml`\n",
      "      From worker 2:\t Activating environment at `~/CODE/ArDCA/Project.toml`\n",
      "      From worker 3:\t Activating environment at `~/CODE/ArDCA/Project.toml`\n",
      "      From worker 8:\t Activating environment at `~/CODE/ArDCA/Project.toml`\n"
     ]
    },
    {
     "name": "stderr",
     "output_type": "stream",
     "text": [
      "\u001b[32m\u001b[1m Activating\u001b[22m\u001b[39m environment at `~/CODE/ArDCA/Project.toml`\n",
      "┌ Info: Precompiling ArDCA [fc7e833f-a3b9-439d-ae82-c6ad11a3e54b]\n",
      "└ @ Base loading.jl:1278\n",
      "┌ Info: Precompiling PlmDCA [06784e46-84fc-5582-b8de-0e984192b79e]\n",
      "└ @ Base loading.jl:1278\n"
     ]
    }
   ],
   "source": [
    "mypkgdir = normpath(joinpath(pwd(),\"..\"))\n",
    "datadir=joinpath(mypkgdir,\"data\") # put here your path\n",
    "cd(mypkgdir)\n",
    "using Distributed, PyPlot\n",
    "nprocs = 8\n",
    "addprocs(nprocs) # choose the number of cores that you want to use (here nprocs=8)\n",
    "@everywhere using Pkg\n",
    "@everywhere Pkg.activate(\".\")\n",
    "@everywhere using ArDCA\n",
    "@everywhere using PlmDCA\n",
    "include(joinpath(mypkgdir,\"julia-notebook/script.jl\")); # a script with some utilities"
   ]
  },
  {
   "cell_type": "markdown",
   "metadata": {},
   "source": [
    "## Define the protein family \n",
    "\n",
    "\n",
    "The `out` strcture is defined in the `script.jl` file.\n",
    "```\n",
    "mutable struct AnalOut\n",
    "    arnet # the ArDCA inferred model parameters\n",
    "    arvar # the internal variables\n",
    "    resori::Union{PlmOut,Nothing} # the PlmDCA output of the original MSA\n",
    "    resgen::Union{PlmOut,Nothing} # the PlmDCA output of the generated MSA\n",
    "    rocori::Union{Nothing,Array{Tuple{Int64,Int64,Float64,Float64}}} # score of original MSA\n",
    "    rocgen::Union{Nothing,Array{Tuple{Int64,Int64,Float64,Float64}}} # score of generated MSA\n",
    "    Zgen::Union{Nothing,Array{Int,2}}\n",
    "end\n",
    "```"
   ]
  },
  {
   "cell_type": "code",
   "execution_count": 2,
   "metadata": {},
   "outputs": [],
   "source": [
    "family=joinpath(datadir,\"PF14\")\n",
    "out = AnalOut(nothing,nothing,nothing,nothing, nothing,nothing,nothing,nothing,nothing);"
   ]
  },
  {
   "cell_type": "markdown",
   "metadata": {},
   "source": [
    "## Run ArDCA analyis\n",
    "\n",
    "beside `lambdaJ, lambdaH`, possible keywork arguments are (with their default value):\n",
    "\n",
    "* `epsconv::Real=1.0e-5` (convergenge parameter)\n",
    "\n",
    "* `maxit::Int=1000` (maximum number of iteration - don't change)\n",
    "\n",
    "* `verbose::Bool=true` (set to `false` to suppress printing on screen)\n",
    "\n",
    "* `method::Symbol=:LD_LBFGS` (optimization method)\n",
    "\n",
    "* `permorder::Union{Symbol,Vector{Ti}}=:ENTROPIC` (permutation order). Possible values are: `[:NATURAL, :ENTROPIC, :REV_ENTROPIC, :RANDOM]` or a custom permutation vector.\n",
    "\n",
    "\n",
    "\n"
   ]
  },
  {
   "cell_type": "code",
   "execution_count": 3,
   "metadata": {},
   "outputs": [
    {
     "name": "stdout",
     "output_type": "stream",
     "text": [
      "removing duplicate sequences... done: 13600 -> 8871\n",
      "M = 8871 N = 53 Meff = 2950.9255307616663 theta = 0.3308846126401137\n",
      "      From worker 2:\tsite = 1\tpl = 0.0996\ttime = 1.9701\tstatus = FTOL_REACHED\n",
      "      From worker 3:\tsite = 8\tpl = 0.5179\ttime = 2.1734\tstatus = FTOL_REACHED\n",
      "      From worker 2:\tsite = 2\tpl = 0.1976\ttime = 0.1509\tstatus = FTOL_REACHED\n",
      "      From worker 2:\tsite = 3\tpl = 0.1890\ttime = 0.1680\tstatus = FTOL_REACHED\n",
      "      From worker 4:\tsite = 15\tpl = 1.2028\ttime = 2.2960\tstatus = FTOL_REACHED\n",
      "      From worker 3:\tsite = 9\tpl = 0.7186\ttime = 0.2866\tstatus = FTOL_REACHED\n",
      "      From worker 5:\tsite = 22\tpl = 1.7230\ttime = 2.6066\tstatus = FTOL_REACHED\n",
      "      From worker 2:\tsite = 4\tpl = 0.2888\ttime = 0.1823\tstatus = FTOL_REACHED\n",
      "      From worker 6:\tsite = 29\tpl = 2.2007\ttime = 2.5339\tstatus = FTOL_REACHED\n",
      "      From worker 2:\tsite = 5\tpl = 0.3433\ttime = 0.2033\tstatus = FTOL_REACHED\n",
      "      From worker 4:\tsite = 16\tpl = 1.2504\ttime = 0.3994\tstatus = FTOL_REACHED\n",
      "      From worker 3:\tsite = 10\tpl = 0.7271\ttime = 0.3489\tstatus = FTOL_REACHED\n",
      "      From worker 8:\tsite = 41\tpl = 2.5040\ttime = 2.5752\tstatus = FTOL_REACHED\n",
      "      From worker 7:\tsite = 35\tpl = 2.2504\ttime = 2.6470\tstatus = FTOL_REACHED\n",
      "      From worker 9:\tsite = 47\tpl = 2.5519\ttime = 2.6782\tstatus = FTOL_REACHED\n",
      "      From worker 2:\tsite = 6\tpl = 0.4811\ttime = 0.2602\tstatus = FTOL_REACHED\n",
      "      From worker 5:\tsite = 23\tpl = 1.7631\ttime = 0.5585\tstatus = FTOL_REACHED\n",
      "      From worker 3:\tsite = 11\tpl = 0.7202\ttime = 0.2983\tstatus = FTOL_REACHED\n",
      "      From worker 2:\tsite = 7\tpl = 0.4775\ttime = 0.2634\tstatus = FTOL_REACHED\n",
      "      From worker 6:\tsite = 30\tpl = 2.2925\ttime = 0.5687\tstatus = FTOL_REACHED\n",
      "      From worker 4:\tsite = 17\tpl = 1.2896\ttime = 0.5493\tstatus = FTOL_REACHED\n",
      "      From worker 3:\tsite = 12\tpl = 0.8354\ttime = 0.3675\tstatus = FTOL_REACHED\n",
      "      From worker 5:\tsite = 24\tpl = 1.7933\ttime = 0.4846\tstatus = FTOL_REACHED\n",
      "      From worker 7:\tsite = 36\tpl = 2.4144\ttime = 0.7596\tstatus = FTOL_REACHED\n",
      "      From worker 4:\tsite = 18\tpl = 1.4003\ttime = 0.4109\tstatus = FTOL_REACHED\n",
      "      From worker 3:\tsite = 13\tpl = 0.9398\ttime = 0.2929\tstatus = FTOL_REACHED\n",
      "      From worker 8:\tsite = 42\tpl = 2.4828\ttime = 0.9429\tstatus = FTOL_REACHED\n",
      "      From worker 6:\tsite = 31\tpl = 2.2682\ttime = 0.5966\tstatus = FTOL_REACHED\n",
      "      From worker 9:\tsite = 48\tpl = 2.5270\ttime = 0.9544\tstatus = FTOL_REACHED\n",
      "      From worker 5:\tsite = 25\tpl = 1.9053\ttime = 0.4297\tstatus = FTOL_REACHED\n",
      "      From worker 3:\tsite = 14\tpl = 0.8065\ttime = 0.3941\tstatus = FTOL_REACHED\n",
      "      From worker 4:\tsite = 19\tpl = 1.3779\ttime = 0.4800\tstatus = FTOL_REACHED\n",
      "      From worker 7:\tsite = 37\tpl = 2.4001\ttime = 0.7105\tstatus = FTOL_REACHED\n",
      "      From worker 5:\tsite = 26\tpl = 2.0423\ttime = 0.4755\tstatus = FTOL_REACHED\n",
      "      From worker 6:\tsite = 32\tpl = 2.2407\ttime = 0.5889\tstatus = FTOL_REACHED\n",
      "      From worker 8:\tsite = 43\tpl = 2.4545\ttime = 0.8530\tstatus = FTOL_REACHED\n",
      "      From worker 4:\tsite = 20\tpl = 1.3141\ttime = 0.4313\tstatus = FTOL_REACHED\n",
      "      From worker 9:\tsite = 49\tpl = 2.5780\ttime = 0.8541\tstatus = FTOL_REACHED\n",
      "      From worker 5:\tsite = 27\tpl = 2.1132\ttime = 0.4703\tstatus = FTOL_REACHED\n",
      "      From worker 7:\tsite = 38\tpl = 2.3413\ttime = 0.6373\tstatus = FTOL_REACHED\n",
      "      From worker 6:\tsite = 33\tpl = 2.2429\ttime = 0.5957\tstatus = FTOL_REACHED\n",
      "      From worker 4:\tsite = 21\tpl = 1.6046\ttime = 0.5006\tstatus = FTOL_REACHED\n",
      "      From worker 8:\tsite = 44\tpl = 2.4882\ttime = 0.7274\tstatus = FTOL_REACHED\n",
      "      From worker 5:\tsite = 28\tpl = 2.1375\ttime = 0.5437\tstatus = FTOL_REACHED\n",
      "      From worker 9:\tsite = 50\tpl = 2.4898\ttime = 0.8768\tstatus = FTOL_REACHED\n",
      "      From worker 6:\tsite = 34\tpl = 2.3486\ttime = 0.6263\tstatus = FTOL_REACHED\n",
      "      From worker 7:\tsite = 39\tpl = 2.4256\ttime = 0.7751\tstatus = FTOL_REACHED\n",
      "      From worker 8:\tsite = 45\tpl = 2.4156\ttime = 0.7326\tstatus = FTOL_REACHED\n",
      "      From worker 7:\tsite = 40\tpl = 2.3523\ttime = 0.5702\tstatus = FTOL_REACHED\n",
      "      From worker 9:\tsite = 51\tpl = 2.5760\ttime = 0.7999\tstatus = FTOL_REACHED\n",
      "      From worker 8:\tsite = 46\tpl = 2.5018\ttime = 0.6510\tstatus = FTOL_REACHED\n",
      "      From worker 9:\tsite = 52\tpl = 2.5473\ttime = 0.6360\tstatus = FTOL_REACHED\n"
     ]
    }
   ],
   "source": [
    "runardca!(out,family,lambdaJ=0.02,lambdaH=0.001);"
   ]
  },
  {
   "cell_type": "markdown",
   "metadata": {},
   "source": [
    "## Sampling\n",
    "\n",
    "The following produces `Msample` samples. By default, `Msample` is number of samples from the original alignment, but it can be changed as a keyword argument. We also run PlmDCA on the true alignment, and the generated one."
   ]
  },
  {
   "cell_type": "code",
   "execution_count": 4,
   "metadata": {
    "tags": []
   },
   "outputs": [
    {
     "name": "stdout",
     "output_type": "stream",
     "text": [
      "      From worker 8:\tsite = 42\t pl = 0.4279\t time = 1.8224\texit status = FTOL_REACHED\n",
      "      From worker 2:\tsite = 1\t pl = 1.8061\t time = 1.8746\texit status = FTOL_REACHED\n",
      "      From worker 4:\tsite = 15\t pl = 2.5825\t time = 1.9148\texit status = FTOL_REACHED\n",
      "      From worker 5:\tsite = 22\t pl = 2.6211\t time = 1.9874\texit status = FTOL_REACHED\n",
      "      From worker 3:\tsite = 8\t pl = 2.6081\t time = 1.9774\texit status = FTOL_REACHED\n",
      "      From worker 7:\tsite = 36\t pl = 2.1567\t time = 1.9910\texit status = FTOL_REACHED\n",
      "      From worker 6:\tsite = 29\t pl = 2.4888\t time = 2.1010\texit status = FTOL_REACHED\n",
      "      From worker 2:\tsite = 2\t pl = 0.3570\t time = 0.5720\texit status = FTOL_REACHED\n",
      "      From worker 9:\tsite = 48\t pl = 0.1735\t time = 2.4929\texit status = FTOL_REACHED\n",
      "      From worker 3:\tsite = 9\t pl = 0.5137\t time = 0.5243\texit status = FTOL_REACHED\n",
      "      From worker 7:\tsite = 37\t pl = 0.7344\t time = 0.6065\texit status = FTOL_REACHED\n",
      "      From worker 8:\tsite = 43\t pl = 2.6554\t time = 0.8028\texit status = FTOL_REACHED\n",
      "      From worker 4:\tsite = 16\t pl = 2.5606\t time = 0.7175\texit status = FTOL_REACHED\n",
      "      From worker 5:\tsite = 23\t pl = 2.6476\t time = 0.7417\texit status = FTOL_REACHED\n",
      "      From worker 6:\tsite = 30\t pl = 0.5539\t time = 0.6068\texit status = FTOL_REACHED\n",
      "      From worker 2:\tsite = 3\t pl = 2.7118\t time = 0.5741\texit status = FTOL_REACHED\n",
      "      From worker 3:\tsite = 10\t pl = 2.4483\t time = 0.7222\texit status = FTOL_REACHED\n",
      "      From worker 7:\tsite = 38\t pl = 0.8019\t time = 0.6426\texit status = FTOL_REACHED\n",
      "      From worker 4:\tsite = 17\t pl = 1.4166\t time = 0.6540\texit status = FTOL_REACHED\n",
      "      From worker 9:\tsite = 49\t pl = 2.2984\t time = 0.9060\texit status = FTOL_REACHED\n",
      "      From worker 8:\tsite = 44\t pl = 1.4207\t time = 0.8068\texit status = FTOL_REACHED\n",
      "      From worker 5:\tsite = 24\t pl = 2.3813\t time = 0.7259\texit status = FTOL_REACHED\n",
      "      From worker 6:\tsite = 31\t pl = 2.6422\t time = 0.7399\texit status = FTOL_REACHED\n",
      "      From worker 2:\tsite = 4\t pl = 2.0010\t time = 0.6109\texit status = FTOL_REACHED\n",
      "      From worker 3:\tsite = 11\t pl = 0.6151\t time = 0.6048\texit status = FTOL_REACHED\n",
      "      From worker 7:\tsite = 39\t pl = 2.4993\t time = 0.7473\texit status = FTOL_REACHED\n",
      "      From worker 4:\tsite = 18\t pl = 1.2400\t time = 0.7325\texit status = FTOL_REACHED\n",
      "      From worker 2:\tsite = 5\t pl = 1.7880\t time = 0.6115\texit status = FTOL_REACHED\n",
      "      From worker 8:\tsite = 45\t pl = 2.3475\t time = 0.8211\texit status = FTOL_REACHED\n",
      "      From worker 9:\tsite = 50\t pl = 2.5681\t time = 0.8657\texit status = FTOL_REACHED\n",
      "      From worker 6:\tsite = 32\t pl = 0.8916\t time = 0.8598\texit status = FTOL_REACHED\n",
      "      From worker 5:\tsite = 25\t pl = 2.2429\t time = 0.9009\texit status = FTOL_REACHED\n",
      "      From worker 3:\tsite = 12\t pl = 2.5608\t time = 0.8027\texit status = FTOL_REACHED\n",
      "      From worker 4:\tsite = 19\t pl = 1.6666\t time = 0.7096\texit status = FTOL_REACHED\n",
      "      From worker 7:\tsite = 40\t pl = 0.2602\t time = 0.9416\texit status = FTOL_REACHED\n",
      "      From worker 2:\tsite = 6\t pl = 2.5010\t time = 0.7524\texit status = FTOL_REACHED\n",
      "      From worker 6:\tsite = 33\t pl = 1.8287\t time = 0.7516\texit status = FTOL_REACHED\n",
      "      From worker 8:\tsite = 46\t pl = 2.2968\t time = 0.8691\texit status = FTOL_REACHED\n",
      "      From worker 9:\tsite = 51\t pl = 2.5940\t time = 0.9151\texit status = FTOL_REACHED\n",
      "      From worker 5:\tsite = 26\t pl = 2.4669\t time = 0.8714\texit status = FTOL_REACHED\n",
      "      From worker 3:\tsite = 13\t pl = 2.2837\t time = 0.7387\texit status = FTOL_REACHED\n",
      "      From worker 4:\tsite = 20\t pl = 0.9959\t time = 0.7014\texit status = FTOL_REACHED\n",
      "      From worker 2:\tsite = 7\t pl = 2.1540\t time = 0.6242\texit status = FTOL_REACHED\n",
      "      From worker 7:\tsite = 41\t pl = 1.3688\t time = 0.6278\texit status = FTOL_REACHED\n",
      "      From worker 5:\tsite = 27\t pl = 0.0613\t time = 0.4447\texit status = FTOL_REACHED\n",
      "      From worker 6:\tsite = 34\t pl = 0.5228\t time = 0.6189\texit status = FTOL_REACHED\n",
      "      From worker 8:\tsite = 47\t pl = 2.0825\t time = 0.7097\texit status = FTOL_REACHED\n",
      "      From worker 9:\tsite = 52\t pl = 0.2858\t time = 0.8162\texit status = FTOL_REACHED\n",
      "      From worker 3:\tsite = 14\t pl = 2.7069\t time = 0.6514\texit status = FTOL_REACHED\n",
      "      From worker 4:\tsite = 21\t pl = 1.2121\t time = 0.6430\texit status = FTOL_REACHED\n",
      "      From worker 6:\tsite = 35\t pl = 0.9290\t time = 0.6028\texit status = FTOL_REACHED\n",
      "      From worker 5:\tsite = 28\t pl = 2.3924\t time = 0.7777\texit status = FTOL_REACHED\n",
      "      From worker 9:\tsite = 53\t pl = 1.3601\t time = 0.6427\texit status = FTOL_REACHED\n",
      "removing duplicate sequences... done: 13600 -> 8871\n",
      "theta = 0.33088461264010915 threshold = 17.0\n",
      "M = 8871 N = 53 Meff = 2950.925530761667\n",
      "      From worker 8:\tsite = 42\t pl = 0.2732\t time = 0.6016\texit status = FTOL_REACHED\n",
      "      From worker 2:\tsite = 1\t pl = 1.5333\t time = 0.6593\texit status = FTOL_REACHED\n",
      "      From worker 9:\tsite = 48\t pl = 0.0750\t time = 0.6606\texit status = FTOL_REACHED\n",
      "      From worker 3:\tsite = 8\t pl = 2.3841\t time = 0.7501\texit status = FTOL_REACHED\n",
      "      From worker 4:\tsite = 15\t pl = 2.2612\t time = 0.7599\texit status = FTOL_REACHED\n",
      "      From worker 5:\tsite = 22\t pl = 2.4443\t time = 0.8123\texit status = FTOL_REACHED\n",
      "      From worker 6:\tsite = 29\t pl = 2.2715\t time = 0.8931\texit status = FTOL_REACHED\n",
      "      From worker 7:\tsite = 36\t pl = 1.9121\t time = 0.8992\texit status = FTOL_REACHED\n",
      "      From worker 2:\tsite = 2\t pl = 0.1329\t time = 0.5231\texit status = FTOL_REACHED\n",
      "      From worker 3:\tsite = 9\t pl = 0.3591\t time = 0.5745\texit status = FTOL_REACHED\n",
      "      From worker 7:\tsite = 37\t pl = 0.5812\t time = 0.6173\texit status = FTOL_REACHED\n",
      "      From worker 6:\tsite = 30\t pl = 0.4148\t time = 0.6309\texit status = FTOL_REACHED\n",
      "      From worker 8:\tsite = 43\t pl = 2.3660\t time = 0.9499\texit status = FTOL_REACHED\n",
      "      From worker 9:\tsite = 49\t pl = 2.0650\t time = 0.9484\texit status = FTOL_REACHED\n",
      "      From worker 5:\tsite = 23\t pl = 2.4834\t time = 0.8566\texit status = FTOL_REACHED\n",
      "      From worker 4:\tsite = 16\t pl = 2.3269\t time = 0.9113\texit status = FTOL_REACHED\n",
      "      From worker 2:\tsite = 3\t pl = 2.4286\t time = 0.6797\texit status = FTOL_REACHED\n",
      "      From worker 3:\tsite = 10\t pl = 2.1870\t time = 0.7828\texit status = FTOL_REACHED\n",
      "      From worker 7:\tsite = 38\t pl = 0.5916\t time = 0.6322\texit status = FTOL_REACHED\n",
      "      From worker 6:\tsite = 31\t pl = 2.3873\t time = 0.8886\texit status = FTOL_REACHED\n",
      "      From worker 4:\tsite = 17\t pl = 1.1299\t time = 0.7724\texit status = FTOL_REACHED\n",
      "      From worker 5:\tsite = 24\t pl = 2.1778\t time = 0.8158\texit status = FTOL_REACHED\n",
      "      From worker 8:\tsite = 44\t pl = 1.2732\t time = 0.9842\texit status = FTOL_REACHED\n",
      "      From worker 9:\tsite = 50\t pl = 2.3847\t time = 0.9300\texit status = FTOL_REACHED\n",
      "      From worker 2:\tsite = 4\t pl = 1.6950\t time = 0.7255\texit status = FTOL_REACHED\n",
      "      From worker 3:\tsite = 11\t pl = 0.3657\t time = 0.5459\texit status = FTOL_REACHED\n",
      "      From worker 4:\tsite = 18\t pl = 1.0290\t time = 0.6174\texit status = FTOL_REACHED\n",
      "      From worker 7:\tsite = 39\t pl = 2.2404\t time = 0.9456\texit status = FTOL_REACHED\n",
      "      From worker 2:\tsite = 5\t pl = 1.5865\t time = 0.6588\texit status = FTOL_REACHED\n",
      "      From worker 6:\tsite = 32\t pl = 0.7241\t time = 0.8581\texit status = FTOL_REACHED\n",
      "      From worker 5:\tsite = 25\t pl = 2.0443\t time = 0.9257\texit status = FTOL_REACHED\n",
      "      From worker 3:\tsite = 12\t pl = 2.3151\t time = 0.8420\texit status = FTOL_REACHED\n",
      "      From worker 8:\tsite = 45\t pl = 2.0707\t time = 1.0282\texit status = FTOL_REACHED\n",
      "      From worker 9:\tsite = 51\t pl = 2.3458\t time = 1.1947\texit status = FTOL_REACHED\n",
      "      From worker 4:\tsite = 19\t pl = 1.3679\t time = 0.8436\texit status = FTOL_REACHED\n",
      "      From worker 6:\tsite = 33\t pl = 1.4584\t time = 0.8755\texit status = FTOL_REACHED\n",
      "      From worker 2:\tsite = 6\t pl = 2.1671\t time = 0.9209\texit status = FTOL_REACHED\n",
      "      From worker 5:\tsite = 26\t pl = 2.2763\t time = 0.8961\texit status = FTOL_REACHED\n",
      "      From worker 3:\tsite = 13\t pl = 2.0157\t time = 0.9289\texit status = FTOL_REACHED\n",
      "      From worker 7:\tsite = 40\t pl = 0.1383\t time = 1.4573\texit status = FTOL_REACHED\n",
      "      From worker 4:\tsite = 20\t pl = 0.8407\t time = 0.7421\texit status = FTOL_REACHED\n",
      "      From worker 8:\tsite = 46\t pl = 2.1587\t time = 1.1401\texit status = FTOL_REACHED\n"
     ]
    },
    {
     "name": "stdout",
     "output_type": "stream",
     "text": [
      "      From worker 5:\tsite = 27\t pl = 0.0601\t time = 0.4814\texit status = FTOL_REACHED\n",
      "      From worker 6:\tsite = 34\t pl = 0.3827\t time = 0.7528\texit status = FTOL_REACHED\n",
      "      From worker 9:\tsite = 52\t pl = 0.1327\t time = 1.1960\texit status = FTOL_REACHED\n",
      "      From worker 2:\tsite = 7\t pl = 1.9566\t time = 0.7700\texit status = FTOL_REACHED\n",
      "      From worker 3:\tsite = 14\t pl = 2.4611\t time = 0.7739\texit status = FTOL_REACHED\n",
      "      From worker 7:\tsite = 41\t pl = 1.0497\t time = 0.8180\texit status = FTOL_REACHED\n",
      "      From worker 4:\tsite = 21\t pl = 0.9987\t time = 0.7811\texit status = FTOL_REACHED\n",
      "      From worker 6:\tsite = 35\t pl = 0.6614\t time = 0.5607\texit status = FTOL_REACHED\n",
      "      From worker 8:\tsite = 47\t pl = 1.9005\t time = 0.7977\texit status = FTOL_REACHED\n",
      "      From worker 9:\tsite = 53\t pl = 1.1602\t time = 0.6603\texit status = FTOL_REACHED\n",
      "      From worker 5:\tsite = 28\t pl = 2.0550\t time = 0.8431\texit status = FTOL_REACHED\n"
     ]
    }
   ],
   "source": [
    "sample_and_analyze_results!(out,family);"
   ]
  },
  {
   "cell_type": "markdown",
   "metadata": {},
   "source": [
    "## Plotting  the results"
   ]
  },
  {
   "cell_type": "code",
   "execution_count": 5,
   "metadata": {},
   "outputs": [
    {
     "data": {
      "image/png": "[encoded data removed]",
      "text/plain": [
       "Figure(PyObject <Figure size 640x480 with 1 Axes>)"
      ]
     },
     "metadata": {},
     "output_type": "display_data"
    },
    {
     "data": {
      "text/plain": [
       "(0.7022602821872387, 1673.1688090637567)"
      ]
     },
     "execution_count": 5,
     "metadata": {},
     "output_type": "execute_result"
    }
   ],
   "source": [
    "plotres(out)"
   ]
  },
  {
   "cell_type": "code",
   "execution_count": null,
   "metadata": {},
   "outputs": [],
   "source": []
  }
 ],
 "metadata": {
  "kernelspec": {
   "display_name": "Julia 1.5.3",
   "language": "julia",
   "name": "julia-1.5"
  },
  "language_info": {
   "file_extension": ".jl",
   "mimetype": "application/julia",
   "name": "julia",
   "version": "1.5.3"
  }
 },
 "nbformat": 4,
 "nbformat_minor": 2
}
