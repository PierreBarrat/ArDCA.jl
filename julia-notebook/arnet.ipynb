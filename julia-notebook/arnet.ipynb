{
 "cells": [
  {
   "cell_type": "markdown",
   "metadata": {},
   "source": [
    "# Auto Regressive Network Inference \n",
    "\n",
    "To run this notebook (results are tested agains julia-1.5.3 and julia-1.6.0:\n",
    "\n",
    "1. Install the [julia](https://julialang.org/downloads/)\n",
    "\n",
    "2. Install [PyPlot](https://github.com/JuliaPy/PyPlot.jl) package. To enter in the package manager, just type `]` and from the package manager prompt do a\n",
    "```\n",
    "(@v1.5) pkg> add PyPlot\n",
    "```\n",
    "\n",
    "3. Install the unregistered [PlmDCA](https://github.com/pagnani/PlmDCA) package. From the package manager prompt do a\n",
    "```\n",
    "(@v1.5) pkg> add https://github.com/pagnani/PlmDCA\n",
    "```\n",
    "\n",
    "4. Install the ipynb interface in julia, you should add the [IJulia](https://github.com/JuliaLang/IJulia.jl) package using the package manager. Again, from the package manager prompt do a\n",
    "```\n",
    "(@v1.5) pkg> add IJulia \n",
    "```\n",
    "Exit the Package Manager (type `backspace` or `delete`) and from julia prompt do a \n",
    "```\n",
    "julia> using IJulia\n",
    "julia> notebook()\n",
    "```\n",
    "The ipynb file manager should open a page on your browser and from there you should navigate to this notebook.\n"
   ]
  },
  {
   "cell_type": "markdown",
   "metadata": {},
   "source": [
    "## Load ArDCA package \n",
    "\n",
    "The following cell loads the package `ArDCA` on `nprocs` workers (here `nprocs=8`). The first time it takes a while. \n",
    "\n",
    "* The `mypkgdir` variable should be set to your `path/to/package` dir.\n",
    "\n",
    "* The `datadir` variable points to the `five families autoregressive` path we shared."
   ]
  },
  {
   "cell_type": "code",
   "execution_count": 1,
   "metadata": {},
   "outputs": [
    {
     "name": "stderr",
     "output_type": "stream",
     "text": [
      "\u001b[32m\u001b[1m  Activating\u001b[22m\u001b[39m environment at `~/CODE/ArDCA/Project.toml`\n"
     ]
    },
    {
     "data": {
      "text/plain": [
       "\"/Users/pagnani/CODE/ArDCA/\""
      ]
     },
     "execution_count": 1,
     "metadata": {},
     "output_type": "execute_result"
    }
   ],
   "source": [
    "mypkgdir = normpath(joinpath(pwd(),\"..\"))\n",
    "datadir=joinpath(mypkgdir,\"data\") # put here your path\n",
    "#cd(mypkgdir)\n",
    "using Pkg\n",
    "Pkg.activate(mypkgdir)\n",
    "using PyPlot\n",
    "using ArDCA\n",
    "using PlmDCA\n",
    "include(joinpath(mypkgdir,\"julia-notebook/script.jl\")); # a script with some utilities"
   ]
  },
  {
   "cell_type": "markdown",
   "metadata": {},
   "source": [
    "## Define the protein family \n",
    "\n",
    "\n",
    "The `out` strcture is defined in the `script.jl` file.\n",
    "```\n",
    "mutable struct AnalOut\n",
    "    arnet # the ArDCA inferred model parameters\n",
    "    arvar # the internal variables\n",
    "    resori::Union{PlmOut,Nothing} # the PlmDCA output of the original MSA\n",
    "    resgen::Union{PlmOut,Nothing} # the PlmDCA output of the generated MSA\n",
    "    rocori::Union{Nothing,Array{Tuple{Int64,Int64,Float64,Float64}}} # score of original MSA\n",
    "    rocgen::Union{Nothing,Array{Tuple{Int64,Int64,Float64,Float64}}} # score of generated MSA\n",
    "    Zgen::Union{Nothing,Array{Int,2}}\n",
    "end\n",
    "```"
   ]
  },
  {
   "cell_type": "code",
   "execution_count": 2,
   "metadata": {},
   "outputs": [],
   "source": [
    "family=joinpath(datadir,\"PF14\")\n",
    "out = AnalOut(nothing,nothing,nothing,nothing, nothing,nothing,nothing,nothing,nothing);"
   ]
  },
  {
   "cell_type": "markdown",
   "metadata": {},
   "source": [
    "## Run ArDCA analyis\n",
    "\n",
    "beside `lambdaJ, lambdaH`, possible keywork arguments are (with their default value):\n",
    "\n",
    "* `epsconv::Real=1.0e-5` (convergenge parameter)\n",
    "\n",
    "* `maxit::Int=1000` (maximum number of iteration - don't change)\n",
    "\n",
    "* `verbose::Bool=true` (set to `false` to suppress printing on screen)\n",
    "\n",
    "* `method::Symbol=:LD_LBFGS` (optimization method)\n",
    "\n",
    "* `permorder::Union{Symbol,Vector{Ti}}=:ENTROPIC` (permutation order). Possible values are: `[:NATURAL, :ENTROPIC, :REV_ENTROPIC, :RANDOM]` or a custom permutation vector.\n",
    "\n",
    "\n",
    "\n"
   ]
  },
  {
   "cell_type": "code",
   "execution_count": 3,
   "metadata": {},
   "outputs": [
    {
     "name": "stdout",
     "output_type": "stream",
     "text": [
      "removing duplicate sequences... done: 13600 -> 8871\n",
      "θ = 0.3308846126401105 threshold = 17.0\n",
      "M = 8871 N = 53 Meff = 2950.925530761646\n",
      "site = 15\tpl = 1.2028\ttime = 1.6234\tstatus = FTOL_REACHED\n",
      "site = 35\tpl = 2.2504\ttime = 1.9718\tstatus = FTOL_REACHED\n",
      "site = 1\tpl = 0.0996\ttime = 0.0712\tstatus = FTOL_REACHED\n",
      "site = 22\tpl = 1.7230\ttime = 1.8267\tstatus = FTOL_REACHED\n",
      "site = 41\tpl = 2.5040\ttime = 1.9504\tstatus = FTOL_REACHED\n",
      "site = 8\tpl = 0.5179\ttime = 1.5088\tstatus = FTOL_REACHED\n",
      "site = 47\tpl = 2.5519\ttime = 1.9963\tstatus = FTOL_REACHED\n",
      "site = 29\tpl = 2.2007\ttime = 1.8657\tstatus = FTOL_REACHED\n",
      "site = 2\tpl = 0.1976\ttime = 0.0947\tstatus = FTOL_REACHED\n",
      "site = 9\tpl = 0.7186\ttime = 0.1832\tstatus = FTOL_REACHED\n",
      "site = 3\tpl = 0.1890\ttime = 0.0998\tstatus = FTOL_REACHED\n",
      "site = 16\tpl = 1.2504\ttime = 0.2755\tstatus = FTOL_REACHED\n",
      "site = 4\tpl = 0.2888\ttime = 0.1211\tstatus = FTOL_REACHED\n",
      "site = 10\tpl = 0.7271\ttime = 0.2327\tstatus = FTOL_REACHED\n",
      "site = 23\tpl = 1.7631\ttime = 0.4216\tstatus = FTOL_REACHED\n",
      "site = 30\tpl = 2.2925\ttime = 0.4435\tstatus = FTOL_REACHED\n",
      "site = 5\tpl = 0.3433\ttime = 0.1502\tstatus = FTOL_REACHED\n",
      "site = 36\tpl = 2.4144\ttime = 0.5880\tstatus = FTOL_REACHED\n",
      "site = 6\tpl = 0.4811\ttime = 0.1608\tstatus = FTOL_REACHED\n",
      "site = 11\tpl = 0.7202\ttime = 0.2175\tstatus = FTOL_REACHED\n",
      "site = 17\tpl = 1.2896\ttime = 0.4172\tstatus = FTOL_REACHED\n",
      "site = 42\tpl = 2.4828\ttime = 0.7674\tstatus = FTOL_REACHED\n",
      "site = 48\tpl = 2.5270\ttime = 0.7702\tstatus = FTOL_REACHED\n",
      "site = 7\tpl = 0.4775\ttime = 0.1700\tstatus = FTOL_REACHED\n",
      "site = 24\tpl = 1.7933\ttime = 0.3785\tstatus = FTOL_REACHED\n",
      "site = 12\tpl = 0.8354\ttime = 0.2355\tstatus = FTOL_REACHED\n",
      "site = 31\tpl = 2.2682\ttime = 0.4886\tstatus = FTOL_REACHED\n",
      "site = 18\tpl = 1.4003\ttime = 0.3038\tstatus = FTOL_REACHED\n",
      "site = 13\tpl = 0.9398\ttime = 0.2047\tstatus = FTOL_REACHED\n",
      "site = 25\tpl = 1.9053\ttime = 0.3185\tstatus = FTOL_REACHED\n",
      "site = 37\tpl = 2.4001\ttime = 0.6012\tstatus = FTOL_REACHED\n",
      "site = 14\tpl = 0.8065\ttime = 0.2739\tstatus = FTOL_REACHED\n",
      "site = 19\tpl = 1.3779\ttime = 0.3654\tstatus = FTOL_REACHED\n",
      "site = 32\tpl = 2.2407\ttime = 0.4602\tstatus = FTOL_REACHED\n",
      "site = 26\tpl = 2.0423\ttime = 0.3389\tstatus = FTOL_REACHED\n",
      "site = 49\tpl = 2.5780\ttime = 0.7181\tstatus = FTOL_REACHED\n",
      "site = 43\tpl = 2.4545\ttime = 0.7313\tstatus = FTOL_REACHED\n",
      "site = 20\tpl = 1.3141\ttime = 0.3154\tstatus = FTOL_REACHED\n",
      "site = 38\tpl = 2.3413\ttime = 0.5144\tstatus = FTOL_REACHED\n",
      "site = 27\tpl = 2.1132\ttime = 0.3652\tstatus = FTOL_REACHED\n",
      "site = 33\tpl = 2.2429\ttime = 0.4455\tstatus = FTOL_REACHED\n",
      "site = 21\tpl = 1.6046\ttime = 0.3503\tstatus = FTOL_REACHED\n",
      "site = 44\tpl = 2.4882\ttime = 0.5482\tstatus = FTOL_REACHED\n",
      "site = 50\tpl = 2.4898\ttime = 0.6379\tstatus = FTOL_REACHED\n",
      "site = 28\tpl = 2.1375\ttime = 0.3557\tstatus = FTOL_REACHED\n",
      "site = 39\tpl = 2.4256\ttime = 0.5667\tstatus = FTOL_REACHED\n",
      "site = 34\tpl = 2.3486\ttime = 0.4686\tstatus = FTOL_REACHED\n",
      "site = 45\tpl = 2.4156\ttime = 0.6770\tstatus = FTOL_REACHED\n",
      "site = 40\tpl = 2.3523\ttime = 0.5870\tstatus = FTOL_REACHED\n",
      "site = 51\tpl = 2.5760\ttime = 0.8504\tstatus = FTOL_REACHED\n",
      "site = 46\tpl = 2.5018\ttime = 0.7003\tstatus = FTOL_REACHED\n",
      "site = 52\tpl = 2.5473\ttime = 0.6442\tstatus = FTOL_REACHED\n"
     ]
    }
   ],
   "source": [
    "runardca!(out,family,lambdaJ=0.02,lambdaH=0.001);"
   ]
  },
  {
   "cell_type": "markdown",
   "metadata": {},
   "source": [
    "## Sampling\n",
    "\n",
    "The following produces `Msample` samples. By default, `Msample` is number of samples from the original alignment, but it can be changed as a keyword argument. We also run PlmDCA on the true alignment, and the generated one."
   ]
  },
  {
   "cell_type": "code",
   "execution_count": 4,
   "metadata": {
    "tags": []
   },
   "outputs": [
    {
     "name": "stdout",
     "output_type": "stream",
     "text": [
      "site = 1\t pl = 1.7956\t time = 1.5416\texit status = FTOL_REACHED\n",
      "site = 42\t pl = 0.3991\t time = 1.5819\texit status = FTOL_REACHED\n",
      "site = 15\t pl = 2.5754\t time = 1.5859\texit status = FTOL_REACHED\n",
      "site = 22\t pl = 2.6008\t time = 1.6159\texit status = FTOL_REACHED\n",
      "site = 8\t pl = 2.6048\t time = 0.5587\texit status = FTOL_REACHED\n",
      "site = 36\t pl = 2.1670\t time = 1.6999\texit status = FTOL_REACHED\n",
      "site = 29\t pl = 2.5041\t time = 1.6942\texit status = FTOL_REACHED\n",
      "site = 2\t pl = 0.3508\t time = 0.4470\texit status = FTOL_REACHED\n",
      "site = 9\t pl = 0.5257\t time = 0.4034\texit status = FTOL_REACHED\n",
      "site = 48\t pl = 0.1559\t time = 2.1039\texit status = FTOL_REACHED\n",
      "site = 30\t pl = 0.5606\t time = 0.4818\texit status = FTOL_REACHED\n",
      "site = 16\t pl = 2.5820\t time = 0.6176\texit status = FTOL_REACHED\n",
      "site = 37\t pl = 0.7725\t time = 0.5307\texit status = FTOL_REACHED\n",
      "site = 23\t pl = 2.6404\t time = 0.6340\texit status = FTOL_REACHED\n",
      "site = 43\t pl = 2.6621\t time = 0.7519\texit status = FTOL_REACHED\n",
      "site = 3\t pl = 2.7237\t time = 0.5418\texit status = FTOL_REACHED\n",
      "site = 10\t pl = 2.4647\t time = 0.6417\texit status = FTOL_REACHED\n",
      "site = 49\t pl = 2.2973\t time = 0.6583\texit status = FTOL_REACHED\n",
      "site = 17\t pl = 1.3907\t time = 0.5688\texit status = FTOL_REACHED\n",
      "site = 31\t pl = 2.6362\t time = 0.5900\texit status = FTOL_REACHED\n",
      "site = 38\t pl = 0.7939\t time = 0.5966\texit status = FTOL_REACHED\n",
      "site = 24\t pl = 2.3715\t time = 0.6043\texit status = FTOL_REACHED\n",
      "site = 44\t pl = 1.4365\t time = 0.6632\texit status = FTOL_REACHED\n",
      "site = 4\t pl = 2.0065\t time = 0.5086\texit status = FTOL_REACHED\n",
      "site = 11\t pl = 0.6289\t time = 0.5904\texit status = FTOL_REACHED\n",
      "site = 18\t pl = 1.2223\t time = 0.6064\texit status = FTOL_REACHED\n",
      "site = 32\t pl = 0.8941\t time = 0.6372\texit status = FTOL_REACHED\n",
      "site = 39\t pl = 2.4857\t time = 0.7305\texit status = FTOL_REACHED\n",
      "site = 25\t pl = 2.2470\t time = 0.7208\texit status = FTOL_REACHED\n",
      "site = 50\t pl = 2.5589\t time = 0.8205\texit status = FTOL_REACHED\n",
      "site = 5\t pl = 1.7963\t time = 0.5653\texit status = FTOL_REACHED\n",
      "site = 45\t pl = 2.3395\t time = 0.7086\texit status = FTOL_REACHED\n",
      "site = 12\t pl = 2.5613\t time = 0.6239\texit status = FTOL_REACHED\n",
      "site = 19\t pl = 1.6544\t time = 0.6002\texit status = FTOL_REACHED\n",
      "site = 33\t pl = 1.8214\t time = 0.6000\texit status = FTOL_REACHED\n",
      "site = 6\t pl = 2.5199\t time = 0.5606\texit status = FTOL_REACHED\n",
      "site = 26\t pl = 2.4785\t time = 0.6942\texit status = FTOL_REACHED\n",
      "site = 51\t pl = 2.5990\t time = 0.7591\texit status = FTOL_REACHED\n",
      "site = 40\t pl = 0.2522\t time = 0.8328\texit status = FTOL_REACHED\n",
      "site = 13\t pl = 2.2903\t time = 0.5748\texit status = FTOL_REACHED\n",
      "site = 46\t pl = 2.2992\t time = 0.7757\texit status = FTOL_REACHED\n",
      "site = 34\t pl = 0.5089\t time = 0.5061\texit status = FTOL_REACHED\n",
      "site = 20\t pl = 0.9668\t time = 0.5766\texit status = FTOL_REACHED\n",
      "site = 27\t pl = 0.0611\t time = 0.3550\texit status = FTOL_REACHED\n",
      "site = 7\t pl = 2.1896\t time = 0.5671\texit status = FTOL_REACHED\n",
      "site = 41\t pl = 1.3651\t time = 0.5653\texit status = FTOL_REACHED\n",
      "site = 14\t pl = 2.6950\t time = 0.5875\texit status = FTOL_REACHED\n",
      "site = 35\t pl = 0.9177\t time = 0.5543\texit status = FTOL_REACHED\n",
      "site = 47\t pl = 2.0822\t time = 0.6105\texit status = FTOL_REACHED\n",
      "site = 21\t pl = 1.2317\t time = 0.5641\texit status = FTOL_REACHED\n",
      "site = 52\t pl = 0.2712\t time = 0.7969\texit status = FTOL_REACHED\n",
      "site = 28\t pl = 2.4042\t time = 0.6315\texit status = FTOL_REACHED\n",
      "site = 53\t pl = 1.3572\t time = 0.5003\texit status = FTOL_REACHED\n",
      "removing duplicate sequences... done: 13600 -> 8871\n",
      "θ = 0.3308846126401105 threshold = 17.0\n",
      "M = 8871 N = 53 Meff = 2950.925530761646\n",
      "preprocessing took 0.244513434 seconds\n",
      "site = 1\t pl = 1.5333\t time = 0.5786\texit status = FTOL_REACHED\n",
      "site = 42\t pl = 0.2732\t time = 0.5830\texit status = FTOL_REACHED\n",
      "site = 48\t pl = 0.0750\t time = 0.6592\texit status = FTOL_REACHED\n",
      "site = 8\t pl = 2.3841\t time = 0.6967\texit status = FTOL_REACHED\n",
      "site = 15\t pl = 2.2612\t time = 0.7319\texit status = FTOL_REACHED\n",
      "site = 22\t pl = 2.4443\t time = 0.7568\texit status = FTOL_REACHED\n",
      "site = 36\t pl = 1.9121\t time = 0.8057\texit status = FTOL_REACHED\n",
      "site = 29\t pl = 2.2715\t time = 0.8377\texit status = FTOL_REACHED\n",
      "site = 2\t pl = 0.1329\t time = 0.4190\texit status = FTOL_REACHED\n",
      "site = 9\t pl = 0.3591\t time = 0.4034\texit status = FTOL_REACHED\n",
      "site = 37\t pl = 0.5812\t time = 0.4657\texit status = FTOL_REACHED\n",
      "site = 43\t pl = 2.3660\t time = 0.7212\texit status = FTOL_REACHED\n",
      "site = 30\t pl = 0.4148\t time = 0.5049\texit status = FTOL_REACHED\n",
      "site = 23\t pl = 2.4834\t time = 0.5982\texit status = FTOL_REACHED\n",
      "site = 16\t pl = 2.3269\t time = 0.6289\texit status = FTOL_REACHED\n",
      "site = 49\t pl = 2.0650\t time = 0.7648\texit status = FTOL_REACHED\n",
      "site = 3\t pl = 2.4286\t time = 0.5019\texit status = FTOL_REACHED\n",
      "site = 10\t pl = 2.1870\t time = 0.5648\texit status = FTOL_REACHED\n",
      "site = 38\t pl = 0.5916\t time = 0.4719\texit status = FTOL_REACHED\n",
      "site = 17\t pl = 1.1299\t time = 0.5968\texit status = FTOL_REACHED\n",
      "site = 24\t pl = 2.1778\t time = 0.6842\texit status = FTOL_REACHED\n",
      "site = 4\t pl = 1.6950\t time = 0.5667\texit status = FTOL_REACHED\n",
      "site = 44\t pl = 1.2732\t time = 0.7814\texit status = FTOL_REACHED\n",
      "site = 31\t pl = 2.3873\t time = 0.7567\texit status = FTOL_REACHED\n",
      "site = 11\t pl = 0.3657\t time = 0.4664\texit status = FTOL_REACHED\n",
      "site = 50\t pl = 2.3847\t time = 0.7906\texit status = FTOL_REACHED\n",
      "site = 18\t pl = 1.0290\t time = 0.4948\texit status = FTOL_REACHED\n",
      "site = 39\t pl = 2.2404\t time = 0.8012\texit status = FTOL_REACHED\n",
      "site = 5\t pl = 1.5865\t time = 0.5001\texit status = FTOL_REACHED\n",
      "site = 25\t pl = 2.0443\t time = 0.7147\texit status = FTOL_REACHED\n",
      "site = 32\t pl = 0.7241\t time = 0.6589\texit status = FTOL_REACHED\n",
      "site = 12\t pl = 2.3151\t time = 0.6569\texit status = FTOL_REACHED\n",
      "site = 45\t pl = 2.0707\t time = 0.7506\texit status = FTOL_REACHED\n",
      "site = 19\t pl = 1.3679\t time = 0.6683\texit status = FTOL_REACHED\n",
      "site = 51\t pl = 2.3458\t time = 0.9760\texit status = FTOL_REACHED\n",
      "site = 6\t pl = 2.1671\t time = 0.7034\texit status = FTOL_REACHED\n",
      "site = 33\t pl = 1.4584\t time = 0.6959\texit status = FTOL_REACHED\n",
      "site = 26\t pl = 2.2763\t time = 0.7296\texit status = FTOL_REACHED\n",
      "site = 13\t pl = 2.0157\t time = 0.6971\texit status = FTOL_REACHED\n",
      "site = 20\t pl = 0.8407\t time = 0.5353\texit status = FTOL_REACHED\n",
      "site = 40\t pl = 0.1383\t time = 1.1160\texit status = FTOL_REACHED\n",
      "site = 46\t pl = 2.1587\t time = 0.8748\texit status = FTOL_REACHED\n",
      "site = 7\t pl = 1.9566\t time = 0.4994\texit status = FTOL_REACHED\n",
      "site = 27\t pl = 0.0601\t time = 0.3591\texit status = FTOL_REACHED\n",
      "site = 34\t pl = 0.3827\t time = 0.5287\texit status = FTOL_REACHED\n",
      "site = 52\t pl = 0.1327\t time = 0.8444\texit status = FTOL_REACHED\n",
      "site = 14\t pl = 2.4611\t time = 0.5759\texit status = FTOL_REACHED\n",
      "site = 21\t pl = 0.9987\t time = 0.5693\texit status = FTOL_REACHED\n",
      "site = 41\t pl = 1.0497\t time = 0.5949\texit status = FTOL_REACHED\n",
      "site = 47\t pl = 1.9005\t time = 0.5926\texit status = FTOL_REACHED\n",
      "site = 35\t pl = 0.6614\t time = 0.4012\texit status = FTOL_REACHED\n",
      "site = 28\t pl = 2.0550\t time = 0.6266\texit status = FTOL_REACHED\n",
      "site = 53\t pl = 1.1602\t time = 0.5049\texit status = FTOL_REACHED\n"
     ]
    }
   ],
   "source": [
    "sample_and_analyze_results!(out,family);"
   ]
  },
  {
   "cell_type": "markdown",
   "metadata": {},
   "source": [
    "## Plotting  the results"
   ]
  },
  {
   "cell_type": "code",
   "execution_count": 5,
   "metadata": {},
   "outputs": [
    {
     "data": {
      "image/png": "[encoded data removed]",
      "text/plain": [
       "Figure(PyObject <Figure size 640x480 with 1 Axes>)"
      ]
     },
     "metadata": {},
     "output_type": "display_data"
    },
    {
     "data": {
      "text/plain": [
       "(0.7022602821872387, 1673.1688090637567)"
      ]
     },
     "execution_count": 5,
     "metadata": {},
     "output_type": "execute_result"
    }
   ],
   "source": [
    "plotres(out)"
   ]
  },
  {
   "cell_type": "code",
   "execution_count": null,
   "metadata": {},
   "outputs": [],
   "source": []
  }
 ],
 "metadata": {
  "@webio": {
   "lastCommId": null,
   "lastKernelId": null
  },
  "kernelspec": {
   "display_name": "Julia (8 threads) 1.6.0",
   "language": "julia",
   "name": "julia-(8-threads)-1.6"
  },
  "language_info": {
   "file_extension": ".jl",
   "mimetype": "application/julia",
   "name": "julia",
   "version": "1.6.0"
  }
 },
 "nbformat": 4,
 "nbformat_minor": 2
}
