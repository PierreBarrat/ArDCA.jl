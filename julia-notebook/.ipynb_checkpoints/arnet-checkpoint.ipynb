{
 "cells": [
  {
   "cell_type": "markdown",
   "metadata": {},
   "source": [
    "# Auto Regressive Network Inference \n",
    "\n",
    "To run this notebook:\n",
    "\n",
    "1. Install the [julia-1.5.3](https://julialang.org/downloads/)\n",
    "\n",
    "2. Install [PyPlot](https://github.com/JuliaPy/PyPlot.jl) package. To enter in the package manager, just type `]` and from the package manager prompt do a\n",
    "```\n",
    "(@v1.5) pkg> add PyPlot\n",
    "```\n",
    "\n",
    "3. Install the unregistered [PlmDCA](https://github.com/pagnani/PlmDCA) package. From the package manager prompt do a\n",
    "```\n",
    "(@v1.5) pkg> add https://github.com/pagnani/PlmDCA\n",
    "```\n",
    "\n",
    "4. Install the ipynb interface in julia, you should add the [IJulia](https://github.com/JuliaLang/IJulia.jl) package using the package manager. Again, from the package manager prompt do a\n",
    "```\n",
    "(@v1.5) pkg> add IJulia \n",
    "```\n",
    "Exit the Package Manager (type `backspace` or `delete`) and from julia prompt do a \n",
    "```\n",
    "julia> using IJulia\n",
    "julia> notebook()\n",
    "```\n",
    "The ipynb file manager should open a page on your browser and from there you should navigate to this notebook.\n"
   ]
  },
  {
   "cell_type": "markdown",
   "metadata": {},
   "source": [
    "## Load ArDCA package \n",
    "\n",
    "The following cell loads the package `ArDCA` on `nprocs` workers (here `nprocs=8`). The first time it takes a while. \n",
    "\n",
    "* The `mypkgdir` variable should be set to your `path/to/package` dir.\n",
    "\n",
    "* The `datadir` variable points to the `five families autoregressive` path we shared."
   ]
  },
  {
   "cell_type": "code",
   "execution_count": 1,
   "metadata": {},
   "outputs": [
    {
     "name": "stdout",
     "output_type": "stream",
     "text": [
      "      From worker 8:\t Activating environment at `~/CODE/ArDCA/Project.toml`\n",
      "      From worker 6:\t Activating environment at `~/CODE/ArDCA/Project.toml`\n",
      "      From worker 9:\t Activating environment at `~/CODE/ArDCA/Project.toml`\n",
      "      From worker 7:\t Activating environment at `~/CODE/ArDCA/Project.toml`\n",
      "      From worker 2:\t Activating environment at `~/CODE/ArDCA/Project.toml`\n",
      "      From worker 5:\t Activating environment at `~/CODE/ArDCA/Project.toml`\n",
      "      From worker 4:\t Activating environment at `~/CODE/ArDCA/Project.toml`\n",
      "      From worker 3:\t Activating environment at `~/CODE/ArDCA/Project.toml`\n",
      "\u001b[32m\u001b[1m Activating\u001b[22m\u001b[39m environment at `~/CODE/ArDCA/Project.toml`\n"
     ]
    }
   ],
   "source": [
    "mypkgdir = joinpath(pwd(),\"..\")\n",
    "datadir=joinpath(pwd(),\"data\") # put here your path\n",
    "cd(mypkgdir)\n",
    "using Distributed, PyPlot\n",
    "nprocs = 8\n",
    "addprocs(nprocs) # choose the number of cores that you want to use (here nprocs=8)\n",
    "@everywhere using Pkg\n",
    "@everywhere Pkg.activate(\".\")\n",
    "@everywhere using ArDCA\n",
    "@everywhere using PlmDCA\n",
    "include(joinpath(mypkgdir,\"julia-notebook/script.jl\")); # a script with some utilities"
   ]
  },
  {
   "cell_type": "markdown",
   "metadata": {},
   "source": [
    "## Define the protein family \n",
    "\n",
    "\n",
    "The `out` strcture is defined in the `script.jl` file.\n",
    "```\n",
    "mutable struct AnalOut\n",
    "    arnet # the ArDCA inferred model parameters\n",
    "    arvar # the internal variables\n",
    "    resori::Union{PlmOut,Nothing} # the PlmDCA output of the original MSA\n",
    "    resgen::Union{PlmOut,Nothing} # the PlmDCA output of the generated MSA\n",
    "    rocori::Union{Nothing,Array{Tuple{Int64,Int64,Float64,Float64}}} # score of original MSA\n",
    "    rocgen::Union{Nothing,Array{Tuple{Int64,Int64,Float64,Float64}}} # score of generated MSA\n",
    "    Zgen::Union{Nothing,Array{Int,2}}\n",
    "end\n",
    "```"
   ]
  },
  {
   "cell_type": "code",
   "execution_count": 3,
   "metadata": {},
   "outputs": [],
   "source": [
    "family=joinpath(datadir,\"PF14\")\n",
    "out = AnalOut(nothing,nothing,nothing,nothing, nothing,nothing,nothing,nothing,nothing);"
   ]
  },
  {
   "cell_type": "markdown",
   "metadata": {},
   "source": [
    "## Run ArDCA analyis\n",
    "\n",
    "beside `lambdaJ, lambdaH`, possible keywork arguments are (with their default value):\n",
    "\n",
    "* `epsconv::Real=1.0e-5` (convergenge parameter)\n",
    "\n",
    "* `maxit::Int=1000` (maximum number of iteration - don't change)\n",
    "\n",
    "* `verbose::Bool=true` (set to `false` to suppress printing on screen)\n",
    "\n",
    "* `method::Symbol=:LD_LBFGS` (optimization method)\n",
    "\n",
    "* `permorder::Union{Symbol,Vector{Ti}}=:ENTROPIC` (permutation order). Possible values are: `[:NATURAL, :ENTROPIC, :REV_ENTROPIC, :RANDOM]` or a custom permutation vector.\n",
    "\n",
    "\n",
    "\n"
   ]
  },
  {
   "cell_type": "code",
   "execution_count": 14,
   "metadata": {},
   "outputs": [
    {
     "name": "stdout",
     "output_type": "stream",
     "text": [
      "removing duplicate sequences... done: 13600 -> 8871\n",
      "M = 8871 N = 53 Meff = 2950.9255307616663 theta = 0.3308846126401137\n",
      "      From worker 2:\tsite = 1\tpl = 0.0996\ttime = 0.1342\tstatus = FTOL_REACHED\n",
      "      From worker 2:\tsite = 2\tpl = 0.1976\ttime = 0.1272\tstatus = FTOL_REACHED\n",
      "      From worker 3:\tsite = 8\tpl = 0.5179\ttime = 0.2652\tstatus = FTOL_REACHED\n",
      "      From worker 4:\tsite = 15\tpl = 1.2028\ttime = 0.3621\tstatus = FTOL_REACHED\n",
      "      From worker 2:\tsite = 3\tpl = 0.1890\ttime = 0.1497\tstatus = FTOL_REACHED\n",
      "      From worker 3:\tsite = 9\tpl = 0.7186\ttime = 0.2384\tstatus = FTOL_REACHED\n",
      "      From worker 2:\tsite = 4\tpl = 0.2888\ttime = 0.1521\tstatus = FTOL_REACHED\n",
      "      From worker 5:\tsite = 22\tpl = 1.7230\ttime = 0.5863\tstatus = FTOL_REACHED\n",
      "      From worker 6:\tsite = 29\tpl = 2.2007\ttime = 0.6220\tstatus = FTOL_REACHED\n",
      "      From worker 4:\tsite = 16\tpl = 1.2504\ttime = 0.3639\tstatus = FTOL_REACHED\n",
      "      From worker 8:\tsite = 41\tpl = 2.5040\ttime = 0.7381\tstatus = FTOL_REACHED\n",
      "      From worker 2:\tsite = 5\tpl = 0.3433\ttime = 0.1804\tstatus = FTOL_REACHED\n",
      "      From worker 7:\tsite = 35\tpl = 2.2504\ttime = 0.7820\tstatus = FTOL_REACHED\n",
      "      From worker 3:\tsite = 10\tpl = 0.7271\ttime = 0.2958\tstatus = FTOL_REACHED\n",
      "      From worker 9:\tsite = 47\tpl = 2.5519\ttime = 0.8299\tstatus = FTOL_REACHED\n",
      "      From worker 2:\tsite = 6\tpl = 0.4811\ttime = 0.2138\tstatus = FTOL_REACHED\n",
      "      From worker 3:\tsite = 11\tpl = 0.7202\ttime = 0.2732\tstatus = FTOL_REACHED\n",
      "      From worker 5:\tsite = 23\tpl = 1.7631\ttime = 0.5035\tstatus = FTOL_REACHED\n",
      "      From worker 6:\tsite = 30\tpl = 2.2925\ttime = 0.5199\tstatus = FTOL_REACHED\n",
      "      From worker 2:\tsite = 7\tpl = 0.4775\ttime = 0.2214\tstatus = FTOL_REACHED\n",
      "      From worker 4:\tsite = 17\tpl = 1.2896\ttime = 0.4754\tstatus = FTOL_REACHED\n",
      "      From worker 3:\tsite = 12\tpl = 0.8354\ttime = 0.3039\tstatus = FTOL_REACHED\n",
      "      From worker 7:\tsite = 36\tpl = 2.4144\ttime = 0.6925\tstatus = FTOL_REACHED\n",
      "      From worker 5:\tsite = 24\tpl = 1.7933\ttime = 0.4168\tstatus = FTOL_REACHED\n",
      "      From worker 4:\tsite = 18\tpl = 1.4003\ttime = 0.3611\tstatus = FTOL_REACHED\n",
      "      From worker 8:\tsite = 42\tpl = 2.4828\ttime = 0.8495\tstatus = FTOL_REACHED\n",
      "      From worker 3:\tsite = 13\tpl = 0.9398\ttime = 0.2793\tstatus = FTOL_REACHED\n",
      "      From worker 6:\tsite = 31\tpl = 2.2682\ttime = 0.5405\tstatus = FTOL_REACHED\n",
      "      From worker 9:\tsite = 48\tpl = 2.5270\ttime = 0.8604\tstatus = FTOL_REACHED\n",
      "      From worker 5:\tsite = 25\tpl = 1.9053\ttime = 0.3995\tstatus = FTOL_REACHED\n",
      "      From worker 4:\tsite = 19\tpl = 1.3779\ttime = 0.4061\tstatus = FTOL_REACHED\n",
      "      From worker 3:\tsite = 14\tpl = 0.8065\ttime = 0.3339\tstatus = FTOL_REACHED\n",
      "      From worker 7:\tsite = 37\tpl = 2.4001\ttime = 0.6403\tstatus = FTOL_REACHED\n",
      "      From worker 6:\tsite = 32\tpl = 2.2407\ttime = 0.5180\tstatus = FTOL_REACHED\n",
      "      From worker 5:\tsite = 26\tpl = 2.0423\ttime = 0.4008\tstatus = FTOL_REACHED\n",
      "      From worker 4:\tsite = 20\tpl = 1.3141\ttime = 0.3846\tstatus = FTOL_REACHED\n",
      "      From worker 8:\tsite = 43\tpl = 2.4545\ttime = 0.7673\tstatus = FTOL_REACHED\n",
      "      From worker 9:\tsite = 49\tpl = 2.5780\ttime = 0.7788\tstatus = FTOL_REACHED\n",
      "      From worker 7:\tsite = 38\tpl = 2.3413\ttime = 0.6231\tstatus = FTOL_REACHED\n",
      "      From worker 5:\tsite = 27\tpl = 2.1132\ttime = 0.4776\tstatus = FTOL_REACHED\n",
      "      From worker 6:\tsite = 33\tpl = 2.2429\ttime = 0.6013\tstatus = FTOL_REACHED\n",
      "      From worker 4:\tsite = 21\tpl = 1.6046\ttime = 0.4864\tstatus = FTOL_REACHED\n",
      "      From worker 8:\tsite = 44\tpl = 2.4882\ttime = 0.7635\tstatus = FTOL_REACHED\n",
      "      From worker 5:\tsite = 28\tpl = 2.1375\ttime = 0.4868\tstatus = FTOL_REACHED\n",
      "      From worker 9:\tsite = 50\tpl = 2.4898\ttime = 0.8555\tstatus = FTOL_REACHED\n",
      "      From worker 6:\tsite = 34\tpl = 2.3486\ttime = 0.5709\tstatus = FTOL_REACHED\n",
      "      From worker 7:\tsite = 39\tpl = 2.4256\ttime = 0.6942\tstatus = FTOL_REACHED\n",
      "      From worker 8:\tsite = 45\tpl = 2.4156\ttime = 0.6478\tstatus = FTOL_REACHED\n",
      "      From worker 7:\tsite = 40\tpl = 2.3523\ttime = 0.5516\tstatus = FTOL_REACHED\n",
      "      From worker 9:\tsite = 51\tpl = 2.5760\ttime = 0.7760\tstatus = FTOL_REACHED\n",
      "      From worker 8:\tsite = 46\tpl = 2.5018\ttime = 0.6960\tstatus = FTOL_REACHED\n",
      "      From worker 9:\tsite = 52\tpl = 2.5473\ttime = 0.6472\tstatus = FTOL_REACHED\n"
     ]
    }
   ],
   "source": [
    "runardca!(out,family,lambdaJ=0.02,lambdaH=0.001);"
   ]
  },
  {
   "cell_type": "markdown",
   "metadata": {},
   "source": [
    "## Sampling\n",
    "\n",
    "The following produces `Msample` samples. By default, `Msample` is number of samples from the original alignment, but it can be changed as a keyword argument. We also run PlmDCA on the true alignment, and the generated one."
   ]
  },
  {
   "cell_type": "code",
   "execution_count": 15,
   "metadata": {
    "tags": []
   },
   "outputs": [
    {
     "name": "stdout",
     "output_type": "stream",
     "text": [
      "      From worker 2:\tsite = 1\t pl = 1.7946\t time = 0.5534\texit status = FTOL_REACHED\n",
      "      From worker 8:\tsite = 42\t pl = 0.3852\t time = 0.5690\texit status = FTOL_REACHED\n",
      "      From worker 4:\tsite = 15\t pl = 2.5793\t time = 0.6373\texit status = FTOL_REACHED\n",
      "      From worker 3:\tsite = 8\t pl = 2.5996\t time = 0.6432\texit status = FTOL_REACHED\n",
      "      From worker 5:\tsite = 22\t pl = 2.6078\t time = 0.7174\texit status = FTOL_REACHED\n",
      "      From worker 6:\tsite = 29\t pl = 2.4895\t time = 0.7352\texit status = FTOL_REACHED\n",
      "      From worker 7:\tsite = 36\t pl = 2.1414\t time = 0.7391\texit status = FTOL_REACHED\n",
      "      From worker 2:\tsite = 2\t pl = 0.3391\t time = 0.5164\texit status = FTOL_REACHED\n",
      "      From worker 3:\tsite = 9\t pl = 0.4997\t time = 0.4276\texit status = FTOL_REACHED\n",
      "      From worker 9:\tsite = 48\t pl = 0.1607\t time = 1.1859\texit status = FTOL_REACHED\n",
      "      From worker 6:\tsite = 30\t pl = 0.5491\t time = 0.5680\texit status = FTOL_REACHED\n",
      "      From worker 7:\tsite = 37\t pl = 0.7849\t time = 0.5676\texit status = FTOL_REACHED\n",
      "      From worker 4:\tsite = 16\t pl = 2.5803\t time = 0.6750\texit status = FTOL_REACHED\n",
      "      From worker 5:\tsite = 23\t pl = 2.6503\t time = 0.6711\texit status = FTOL_REACHED\n",
      "      From worker 8:\tsite = 43\t pl = 2.6560\t time = 0.8192\texit status = FTOL_REACHED\n",
      "      From worker 2:\tsite = 3\t pl = 2.7250\t time = 0.5757\texit status = FTOL_REACHED\n",
      "      From worker 3:\tsite = 10\t pl = 2.4832\t time = 0.6839\texit status = FTOL_REACHED\n",
      "      From worker 7:\tsite = 38\t pl = 0.7469\t time = 0.6740\texit status = FTOL_REACHED\n",
      "      From worker 4:\tsite = 17\t pl = 1.4210\t time = 0.6883\texit status = FTOL_REACHED\n",
      "      From worker 9:\tsite = 49\t pl = 2.2848\t time = 0.8479\texit status = FTOL_REACHED\n",
      "      From worker 5:\tsite = 24\t pl = 2.3836\t time = 0.7117\texit status = FTOL_REACHED\n",
      "      From worker 6:\tsite = 31\t pl = 2.6341\t time = 0.8309\texit status = FTOL_REACHED\n",
      "      From worker 8:\tsite = 44\t pl = 1.4112\t time = 0.9039\texit status = FTOL_REACHED\n",
      "      From worker 2:\tsite = 4\t pl = 2.0025\t time = 0.6731\texit status = FTOL_REACHED\n",
      "      From worker 3:\tsite = 11\t pl = 0.6491\t time = 0.6458\texit status = FTOL_REACHED\n",
      "      From worker 4:\tsite = 18\t pl = 1.2326\t time = 0.6491\texit status = FTOL_REACHED\n",
      "      From worker 6:\tsite = 32\t pl = 0.8621\t time = 0.6594\texit status = FTOL_REACHED\n",
      "      From worker 7:\tsite = 39\t pl = 2.4735\t time = 0.8297\texit status = FTOL_REACHED\n",
      "      From worker 2:\tsite = 5\t pl = 1.7890\t time = 0.5464\texit status = FTOL_REACHED\n",
      "      From worker 9:\tsite = 50\t pl = 2.5467\t time = 0.8416\texit status = FTOL_REACHED\n",
      "      From worker 5:\tsite = 25\t pl = 2.2331\t time = 0.7925\texit status = FTOL_REACHED\n",
      "      From worker 8:\tsite = 45\t pl = 2.3324\t time = 0.8071\texit status = FTOL_REACHED\n",
      "      From worker 3:\tsite = 12\t pl = 2.5754\t time = 0.7295\texit status = FTOL_REACHED\n",
      "      From worker 4:\tsite = 19\t pl = 1.6336\t time = 0.6492\texit status = FTOL_REACHED\n",
      "      From worker 6:\tsite = 33\t pl = 1.8287\t time = 0.6860\texit status = FTOL_REACHED\n",
      "      From worker 2:\tsite = 6\t pl = 2.4951\t time = 0.7164\texit status = FTOL_REACHED\n",
      "      From worker 9:\tsite = 51\t pl = 2.6061\t time = 0.8291\texit status = FTOL_REACHED\n",
      "      From worker 5:\tsite = 26\t pl = 2.4783\t time = 0.8546\texit status = FTOL_REACHED\n",
      "      From worker 3:\tsite = 13\t pl = 2.3064\t time = 0.6576\texit status = FTOL_REACHED\n",
      "      From worker 7:\tsite = 40\t pl = 0.2292\t time = 0.9738\texit status = FTOL_REACHED\n",
      "      From worker 4:\tsite = 20\t pl = 0.9845\t time = 0.6574\texit status = FTOL_REACHED\n",
      "      From worker 8:\tsite = 46\t pl = 2.3096\t time = 0.8703\texit status = FTOL_REACHED\n",
      "      From worker 6:\tsite = 34\t pl = 0.5162\t time = 0.5681\texit status = FTOL_REACHED\n",
      "      From worker 5:\tsite = 27\t pl = 0.0646\t time = 0.3590\texit status = FTOL_REACHED\n",
      "      From worker 2:\tsite = 7\t pl = 2.1717\t time = 0.6474\texit status = FTOL_REACHED\n",
      "      From worker 3:\tsite = 14\t pl = 2.6907\t time = 0.6935\texit status = FTOL_REACHED\n",
      "      From worker 9:\tsite = 52\t pl = 0.2831\t time = 0.7968\texit status = FTOL_REACHED\n",
      "      From worker 4:\tsite = 21\t pl = 1.2145\t time = 0.6265\texit status = FTOL_REACHED\n",
      "      From worker 7:\tsite = 41\t pl = 1.3382\t time = 0.8565\texit status = FTOL_REACHED\n",
      "      From worker 8:\tsite = 47\t pl = 2.0782\t time = 0.6872\texit status = FTOL_REACHED\n",
      "      From worker 6:\tsite = 35\t pl = 0.9381\t time = 0.6180\texit status = FTOL_REACHED\n",
      "      From worker 5:\tsite = 28\t pl = 2.3901\t time = 0.7513\texit status = FTOL_REACHED\n",
      "      From worker 9:\tsite = 53\t pl = 1.3619\t time = 0.5442\texit status = FTOL_REACHED\n"
     ]
    }
   ],
   "source": [
    "sample_and_analyze_results!(out,family)"
   ]
  },
  {
   "cell_type": "markdown",
   "metadata": {},
   "source": [
    "## Plotting  the results"
   ]
  },
  {
   "cell_type": "code",
   "execution_count": 16,
   "metadata": {},
   "outputs": [
    {
     "data": {
      "image/png": "[encoded data removed]",
      "text/plain": [
       "Figure(PyObject <Figure size 640x480 with 1 Axes>)"
      ]
     },
     "metadata": {},
     "output_type": "display_data"
    },
    {
     "data": {
      "text/plain": [
       "(0.7022602821872387, 1673.1688090637567)"
      ]
     },
     "execution_count": 16,
     "metadata": {},
     "output_type": "execute_result"
    }
   ],
   "source": [
    "plotres(out)"
   ]
  },
  {
   "cell_type": "code",
   "execution_count": null,
   "metadata": {},
   "outputs": [],
   "source": []
  }
 ],
 "metadata": {
  "kernelspec": {
   "display_name": "Julia 1.5.3",
   "language": "julia",
   "name": "julia-1.5"
  },
  "language_info": {
   "file_extension": ".jl",
   "mimetype": "application/julia",
   "name": "julia",
   "version": "1.5.3"
  }
 },
 "nbformat": 4,
 "nbformat_minor": 2
}
