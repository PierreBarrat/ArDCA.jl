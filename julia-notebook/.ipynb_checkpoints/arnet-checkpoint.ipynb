{
 "cells": [
  {
   "cell_type": "markdown",
   "metadata": {},
   "source": [
    "# Auto Regressive Network Inference \n",
    "\n",
    "To run this notebook:\n",
    "\n",
    "1. Install the [julia-1.5.3](https://julialang.org/downloads/)\n",
    "\n",
    "2. Install [PyPlot](https://github.com/JuliaPy/PyPlot.jl) package. To enter in the package manager, just type `]` and from the package manager prompt do a\n",
    "```\n",
    "(@v1.5) pkg> add PyPlot\n",
    "```\n",
    "\n",
    "3. Install the unregistered [PlmDCA](https://github.com/pagnani/PlmDCA) package. From the package manager prompt do a\n",
    "```\n",
    "(@v1.5) pkg> add https://github.com/pagnani/PlmDCA\n",
    "```\n",
    "\n",
    "4. Install the ipynb interface in julia, you should add the [IJulia](https://github.com/JuliaLang/IJulia.jl) package using the package manager. Again, from the package manager prompt do a\n",
    "```\n",
    "(@v1.5) pkg> add IJulia \n",
    "```\n",
    "Exit the Package Manager (type `backspace` or `delete`) and from julia prompt do a \n",
    "```\n",
    "julia> using IJulia\n",
    "julia> notebook()\n",
    "```\n",
    "The ipynb file manager should open a page on your browser and from there you should navigate to this notebook.\n"
   ]
  },
  {
   "cell_type": "markdown",
   "metadata": {},
   "source": [
    "## Load ArDCA package \n",
    "\n",
    "The following cell loads the package `ArDCA` on `nprocs` workers (here `nprocs=8`). The first time it takes a while. \n",
    "\n",
    "* The `mypkg` variable should be set to your `path/to/package` dir.\n",
    "\n",
    "* The `datadir` variable points to the `five families autoregressive` path we shared."
   ]
  },
  {
   "cell_type": "code",
   "execution_count": null,
   "metadata": {},
   "outputs": [],
   "source": [
    "mypkgdir = joinpath(ENV[\"HOME\"],\"CODE/ArDCA\")\n",
    "datadir=joinpath(ENV[\"HOME\"],\"Dropbox\",\"five families autoregressive\") # put here your path\n",
    "cd(mypkgdir)\n",
    "using Distributed, PyPlot\n",
    "nprocs = 8\n",
    "addprocs(nprocs) # choose the number of cores that you want to use (here nprocs=8)\n",
    "@everywhere using Pkg\n",
    "@everywhere Pkg.activate(\".\")\n",
    "@everywhere using ArDCA\n",
    "@everywhere using PlmDCA\n",
    "include(joinpath(mypkgdir,\"notebook/script.jl\")); # a script with some utilities"
   ]
  },
  {
   "cell_type": "markdown",
   "metadata": {},
   "source": [
    "## Define the protein family \n",
    "\n",
    "The following cell assumes that `datadir` is the `five families autoregressive` directory we shared.\n",
    "\n",
    "The `out` strcture is defined in the `script.jl` file.\n",
    "```\n",
    "mutable struct AnalOut\n",
    "    arnet # the ArDCA inferred model parameters\n",
    "    arvar # the internal variables\n",
    "    resori::Union{PlmOut,Nothing} # the PlmDCA output of the original MSA\n",
    "    resgen::Union{PlmOut,Nothing} # the PlmDCA output of the generated MSA\n",
    "    rocori::Union{Nothing,Array{Tuple{Int64,Int64,Float64,Float64}}} # score of original MSA\n",
    "    rocgen::Union{Nothing,Array{Tuple{Int64,Int64,Float64,Float64}}} # score of generated MSA\n",
    "    Zgen::Union{Nothing,Array{Int,2}}\n",
    "end"
   ]
  },
  {
   "cell_type": "code",
   "execution_count": 5,
   "metadata": {},
   "outputs": [],
   "source": [
    "family=joinpath(datadir,\"PF14\")\n",
    "out = AnalOut(nothing,nothing,nothing,nothing, nothing,nothing,nothing,nothing,nothing);"
   ]
  },
  {
   "cell_type": "markdown",
   "metadata": {},
   "source": [
    "## Run ArDCA analyis\n",
    "\n",
    "beside `lambdaJ, lambdaH`, possible keywork arguments are (with their default value):\n",
    "\n",
    "* `epsconv::Real=1.0e-5` (convergenge parameter)\n",
    "\n",
    "* `maxit::Int=1000` (maximum number of iteration - don't change)\n",
    "\n",
    "* `verbose::Bool=true` (set to `false` to suppress printing on screen)\n",
    "\n",
    "* `method::Symbol=:LD_LBFGS` (optimization method)\n",
    "\n",
    "* `permorder::Union{Symbol,Vector{Ti}}=:ENTROPIC` (permutation order). Possible values are: `[:NATURAL, :ENTROPIC, :REV_ENTROPIC, :RANDOM]` or a custom permutation vector.\n",
    "\n",
    "\n",
    "\n"
   ]
  },
  {
   "cell_type": "code",
   "execution_count": 6,
   "metadata": {},
   "outputs": [
    {
     "name": "stdout",
     "output_type": "stream",
     "text": [
      "removing duplicate sequences... done: 13600 -> 8871\n",
      "theta = 0.33088461264010915 threshold = 17.0\n",
      "M = 8871 N = 53 Meff = 2950.925530761667\n",
      "      From worker 2:\tsite = 1\tpl = 0.0419\ttime = 4.1563\tstatus = FTOL_REACHED\n",
      "      From worker 2:\tsite = 2\tpl = 0.1239\ttime = 0.2142\tstatus = FTOL_REACHED\n",
      "      From worker 3:\tsite = 8\tpl = 0.4107\ttime = 4.4801\tstatus = FTOL_REACHED\n",
      "      From worker 2:\tsite = 3\tpl = 0.1433\ttime = 0.2458\tstatus = FTOL_REACHED\n",
      "      From worker 2:\tsite = 4\tpl = 0.2251\ttime = 0.2385\tstatus = FTOL_REACHED\n",
      "      From worker 3:\tsite = 9\tpl = 0.6224\ttime = 0.5933\tstatus = FTOL_REACHED\n",
      "      From worker 4:\tsite = 15\tpl = 1.0553\ttime = 5.0903\tstatus = FTOL_REACHED\n",
      "      From worker 2:\tsite = 5\tpl = 0.2827\ttime = 0.3945\tstatus = FTOL_REACHED\n",
      "      From worker 5:\tsite = 22\tpl = 1.4070\ttime = 5.8327\tstatus = FTOL_REACHED\n",
      "      From worker 2:\tsite = 6\tpl = 0.4298\ttime = 0.5509\tstatus = FTOL_REACHED\n",
      "      From worker 3:\tsite = 10\tpl = 0.5664\ttime = 1.0048\tstatus = FTOL_REACHED\n",
      "      From worker 2:\tsite = 7\tpl = 0.3952\ttime = 0.4380\tstatus = FTOL_REACHED\n",
      "      From worker 4:\tsite = 16\tpl = 1.0955\ttime = 1.2655\tstatus = FTOL_REACHED\n",
      "      From worker 6:\tsite = 29\tpl = 1.6649\ttime = 6.5672\tstatus = FTOL_REACHED\n",
      "      From worker 3:\tsite = 11\tpl = 0.5183\ttime = 0.8055\tstatus = FTOL_REACHED\n",
      "      From worker 7:\tsite = 35\tpl = 1.3234\ttime = 7.1285\tstatus = FTOL_REACHED\n",
      "      From worker 4:\tsite = 17\tpl = 1.0965\ttime = 1.0783\tstatus = FTOL_REACHED\n",
      "      From worker 5:\tsite = 23\tpl = 1.3982\ttime = 1.7111\tstatus = FTOL_REACHED\n",
      "      From worker 3:\tsite = 12\tpl = 0.6265\ttime = 0.7966\tstatus = FTOL_REACHED\n",
      "      From worker 8:\tsite = 41\tpl = 1.5987\ttime = 7.7564\tstatus = FTOL_REACHED\n",
      "      From worker 9:\tsite = 47\tpl = 1.4030\ttime = 8.4136\tstatus = FTOL_REACHED\n",
      "      From worker 6:\tsite = 30\tpl = 1.7599\ttime = 2.0421\tstatus = FTOL_REACHED\n",
      "      From worker 3:\tsite = 13\tpl = 0.8435\ttime = 0.8314\tstatus = FTOL_REACHED\n",
      "      From worker 4:\tsite = 18\tpl = 1.2244\ttime = 1.0688\tstatus = FTOL_REACHED\n",
      "      From worker 5:\tsite = 24\tpl = 1.2697\ttime = 1.5394\tstatus = FTOL_REACHED\n",
      "      From worker 3:\tsite = 14\tpl = 0.4941\ttime = 0.9851\tstatus = FTOL_REACHED\n",
      "      From worker 7:\tsite = 36\tpl = 1.6258\ttime = 2.4372\tstatus = FTOL_REACHED\n",
      "      From worker 4:\tsite = 19\tpl = 0.9819\ttime = 1.2502\tstatus = FTOL_REACHED\n",
      "      From worker 6:\tsite = 31\tpl = 1.6386\ttime = 1.9877\tstatus = FTOL_REACHED\n",
      "      From worker 5:\tsite = 25\tpl = 1.3489\ttime = 1.6211\tstatus = FTOL_REACHED\n",
      "      From worker 8:\tsite = 42\tpl = 1.4146\ttime = 3.2529\tstatus = FTOL_REACHED\n",
      "      From worker 4:\tsite = 20\tpl = 0.9290\ttime = 1.1291\tstatus = FTOL_REACHED\n",
      "      From worker 7:\tsite = 37\tpl = 1.4810\ttime = 2.3471\tstatus = FTOL_REACHED\n",
      "      From worker 9:\tsite = 48\tpl = 1.2157\ttime = 3.5793\tstatus = FTOL_REACHED\n",
      "      From worker 4:\tsite = 21\tpl = 1.2706\ttime = 1.2972\tstatus = FTOL_REACHED\n",
      "      From worker 5:\tsite = 26\tpl = 1.5964\ttime = 1.6529\tstatus = FTOL_REACHED\n",
      "      From worker 6:\tsite = 32\tpl = 1.5203\ttime = 1.9279\tstatus = FTOL_REACHED\n",
      "      From worker 5:\tsite = 27\tpl = 1.5529\ttime = 1.5561\tstatus = FTOL_REACHED\n",
      "      From worker 8:\tsite = 43\tpl = 1.3945\ttime = 3.3004\tstatus = FTOL_REACHED\n",
      "      From worker 6:\tsite = 33\tpl = 1.4743\ttime = 1.9893\tstatus = FTOL_REACHED\n",
      "      From worker 7:\tsite = 38\tpl = 1.3785\ttime = 2.5249\tstatus = FTOL_REACHED\n",
      "      From worker 9:\tsite = 49\tpl = 1.3852\ttime = 3.4748\tstatus = FTOL_REACHED\n",
      "      From worker 5:\tsite = 28\tpl = 1.5524\ttime = 1.6323\tstatus = FTOL_REACHED\n",
      "      From worker 6:\tsite = 34\tpl = 1.6306\ttime = 2.0730\tstatus = FTOL_REACHED\n",
      "      From worker 7:\tsite = 39\tpl = 1.5253\ttime = 2.5998\tstatus = FTOL_REACHED\n",
      "      From worker 8:\tsite = 44\tpl = 1.3349\ttime = 2.8166\tstatus = FTOL_REACHED\n",
      "      From worker 9:\tsite = 50\tpl = 1.1496\ttime = 3.5259\tstatus = FTOL_REACHED\n",
      "      From worker 7:\tsite = 40\tpl = 1.2619\ttime = 2.0345\tstatus = FTOL_REACHED\n",
      "      From worker 8:\tsite = 45\tpl = 1.2126\ttime = 2.9224\tstatus = FTOL_REACHED\n",
      "      From worker 9:\tsite = 51\tpl = 1.1757\ttime = 3.1820\tstatus = FTOL_REACHED\n",
      "      From worker 8:\tsite = 46\tpl = 1.3790\ttime = 2.6589\tstatus = FTOL_REACHED\n",
      "      From worker 9:\tsite = 52\tpl = 1.1669\ttime = 3.3372\tstatus = FTOL_REACHED\n"
     ]
    }
   ],
   "source": [
    "runardca!(out,family,lambdaJ=1e-4, lambdaH=1e-4);"
   ]
  },
  {
   "cell_type": "markdown",
   "metadata": {},
   "source": [
    "## Sampling\n",
    "\n",
    "The following produces `Msample` samples. By default, `Msample` is number of samples from the original alignment, but it can be changed as a keyword argument. We also run PlmDCA on the true alignment, and the generated one."
   ]
  },
  {
   "cell_type": "code",
   "execution_count": 7,
   "metadata": {
    "tags": []
   },
   "outputs": [
    {
     "name": "stdout",
     "output_type": "stream",
     "text": [
      "      From worker 8:\tsite = 42\t pl = 0.2846\t time = 0.9138\texit status = FTOL_REACHED\n",
      "      From worker 9:\tsite = 48\t pl = 0.0805\t time = 1.0148\texit status = FTOL_REACHED\n",
      "      From worker 2:\tsite = 1\t pl = 1.5357\t time = 1.2646\texit status = FTOL_REACHED\n",
      "      From worker 7:\tsite = 36\t pl = 1.8850\t time = 1.3444\texit status = FTOL_REACHED\n",
      "      From worker 5:\tsite = 22\t pl = 2.3977\t time = 1.3711\texit status = FTOL_REACHED\n",
      "      From worker 3:\tsite = 8\t pl = 2.3444\t time = 1.3726\texit status = FTOL_REACHED\n",
      "      From worker 4:\tsite = 15\t pl = 2.2437\t time = 1.3656\texit status = FTOL_REACHED\n",
      "      From worker 6:\tsite = 29\t pl = 2.2245\t time = 1.4522\texit status = FTOL_REACHED\n",
      "      From worker 2:\tsite = 2\t pl = 0.1372\t time = 0.6902\texit status = FTOL_REACHED\n",
      "      From worker 7:\tsite = 37\t pl = 0.6137\t time = 0.7459\texit status = FTOL_REACHED\n",
      "      From worker 8:\tsite = 43\t pl = 2.3384\t time = 1.1890\texit status = FTOL_REACHED\n",
      "      From worker 3:\tsite = 9\t pl = 0.3857\t time = 0.7857\texit status = FTOL_REACHED\n",
      "      From worker 9:\tsite = 49\t pl = 2.0523\t time = 1.2234\texit status = FTOL_REACHED\n",
      "      From worker 6:\tsite = 30\t pl = 0.4399\t time = 0.8971\texit status = FTOL_REACHED\n",
      "      From worker 4:\tsite = 16\t pl = 2.3014\t time = 1.2824\texit status = FTOL_REACHED\n",
      "      From worker 5:\tsite = 23\t pl = 2.4257\t time = 1.3173\texit status = FTOL_REACHED\n",
      "      From worker 7:\tsite = 38\t pl = 0.5977\t time = 0.8272\texit status = FTOL_REACHED\n",
      "      From worker 2:\tsite = 3\t pl = 2.4021\t time = 1.2140\texit status = FTOL_REACHED\n",
      "      From worker 3:\tsite = 10\t pl = 2.1738\t time = 1.1540\texit status = FTOL_REACHED\n",
      "      From worker 8:\tsite = 44\t pl = 1.2802\t time = 1.3318\texit status = FTOL_REACHED\n",
      "      From worker 9:\tsite = 50\t pl = 2.3330\t time = 1.3300\texit status = FTOL_REACHED\n",
      "      From worker 6:\tsite = 31\t pl = 2.3792\t time = 1.2766\texit status = FTOL_REACHED\n",
      "      From worker 4:\tsite = 17\t pl = 1.1210\t time = 1.2138\texit status = FTOL_REACHED\n",
      "      From worker 5:\tsite = 24\t pl = 2.1727\t time = 1.2241\texit status = FTOL_REACHED\n",
      "      From worker 3:\tsite = 11\t pl = 0.3692\t time = 0.8085\texit status = FTOL_REACHED\n",
      "      From worker 7:\tsite = 39\t pl = 2.2196\t time = 1.2451\texit status = FTOL_REACHED\n",
      "      From worker 2:\tsite = 4\t pl = 1.6979\t time = 1.0931\texit status = FTOL_REACHED\n",
      "      From worker 8:\tsite = 45\t pl = 2.0634\t time = 1.2607\texit status = FTOL_REACHED\n",
      "      From worker 6:\tsite = 32\t pl = 0.7303\t time = 1.1324\texit status = FTOL_REACHED\n",
      "      From worker 9:\tsite = 51\t pl = 2.3314\t time = 1.3691\texit status = FTOL_REACHED\n",
      "      From worker 4:\tsite = 18\t pl = 1.0405\t time = 1.1167\texit status = FTOL_REACHED\n",
      "      From worker 5:\tsite = 25\t pl = 2.0357\t time = 1.3352\texit status = FTOL_REACHED\n",
      "      From worker 3:\tsite = 12\t pl = 2.2834\t time = 1.2505\texit status = FTOL_REACHED\n",
      "      From worker 2:\tsite = 5\t pl = 1.5820\t time = 1.1642\texit status = FTOL_REACHED\n",
      "      From worker 6:\tsite = 33\t pl = 1.4511\t time = 1.0282\texit status = FTOL_REACHED\n",
      "      From worker 7:\tsite = 40\t pl = 0.1463\t time = 1.7043\texit status = FTOL_REACHED\n",
      "      From worker 8:\tsite = 46\t pl = 2.1492\t time = 1.3208\texit status = FTOL_REACHED\n",
      "      From worker 4:\tsite = 19\t pl = 1.3813\t time = 1.1614\texit status = FTOL_REACHED\n",
      "      From worker 9:\tsite = 52\t pl = 0.1379\t time = 1.4491\texit status = FTOL_REACHED\n",
      "      From worker 3:\tsite = 13\t pl = 1.9918\t time = 1.2354\texit status = FTOL_REACHED\n",
      "      From worker 5:\tsite = 26\t pl = 2.2462\t time = 1.3886\texit status = FTOL_REACHED\n",
      "      From worker 6:\tsite = 34\t pl = 0.4086\t time = 0.9499\texit status = FTOL_REACHED\n",
      "      From worker 2:\tsite = 6\t pl = 2.1565\t time = 1.4563\texit status = FTOL_REACHED\n",
      "      From worker 5:\tsite = 27\t pl = 0.0566\t time = 0.5009\texit status = FTOL_REACHED\n",
      "      From worker 7:\tsite = 41\t pl = 1.0521\t time = 1.2839\texit status = FTOL_REACHED\n",
      "      From worker 4:\tsite = 20\t pl = 0.8444\t time = 1.0097\texit status = FTOL_REACHED\n",
      "      From worker 8:\tsite = 47\t pl = 1.8912\t time = 1.1957\texit status = FTOL_REACHED\n",
      "      From worker 9:\tsite = 53\t pl = 1.1707\t time = 1.1676\texit status = FTOL_REACHED\n",
      "      From worker 6:\tsite = 35\t pl = 0.6859\t time = 0.8434\texit status = FTOL_REACHED\n",
      "      From worker 3:\tsite = 14\t pl = 2.4406\t time = 1.1712\texit status = FTOL_REACHED\n",
      "      From worker 2:\tsite = 7\t pl = 1.9396\t time = 1.0083\texit status = FTOL_REACHED\n",
      "      From worker 4:\tsite = 21\t pl = 1.0031\t time = 0.9087\texit status = FTOL_REACHED\n",
      "      From worker 5:\tsite = 28\t pl = 2.0500\t time = 1.0639\texit status = FTOL_REACHED\n",
      "removing duplicate sequences... done: 13600 -> 8871\n",
      "theta = 0.33088461264010915 threshold = 17.0\n",
      "M = 8871 N = 53 Meff = 2950.925530761667\n",
      "      From worker 8:\tsite = 42\t pl = 0.2732\t time = 0.8242\texit status = FTOL_REACHED\n",
      "      From worker 9:\tsite = 48\t pl = 0.0750\t time = 0.8749\texit status = FTOL_REACHED\n",
      "      From worker 2:\tsite = 1\t pl = 1.5333\t time = 1.1214\texit status = FTOL_REACHED\n",
      "      From worker 7:\tsite = 36\t pl = 1.9121\t time = 1.1771\texit status = FTOL_REACHED\n",
      "      From worker 5:\tsite = 22\t pl = 2.4443\t time = 1.2498\texit status = FTOL_REACHED\n",
      "      From worker 4:\tsite = 15\t pl = 2.2612\t time = 1.2525\texit status = FTOL_REACHED\n",
      "      From worker 3:\tsite = 8\t pl = 2.3840\t time = 1.2740\texit status = FTOL_REACHED\n",
      "      From worker 6:\tsite = 29\t pl = 2.2715\t time = 1.3533\texit status = FTOL_REACHED\n",
      "      From worker 2:\tsite = 2\t pl = 0.1329\t time = 0.8506\texit status = FTOL_REACHED\n",
      "      From worker 7:\tsite = 37\t pl = 0.5812\t time = 0.8447\texit status = FTOL_REACHED\n",
      "      From worker 8:\tsite = 43\t pl = 2.3660\t time = 1.2522\texit status = FTOL_REACHED\n",
      "      From worker 9:\tsite = 49\t pl = 2.0650\t time = 1.2028\texit status = FTOL_REACHED\n",
      "      From worker 3:\tsite = 9\t pl = 0.3591\t time = 0.8409\texit status = FTOL_REACHED\n",
      "      From worker 6:\tsite = 30\t pl = 0.4148\t time = 0.8809\texit status = FTOL_REACHED\n",
      "      From worker 5:\tsite = 23\t pl = 2.4834\t time = 1.1863\texit status = FTOL_REACHED\n",
      "      From worker 4:\tsite = 16\t pl = 2.3269\t time = 1.2605\texit status = FTOL_REACHED\n",
      "      From worker 7:\tsite = 38\t pl = 0.5916\t time = 0.8547\texit status = FTOL_REACHED\n",
      "      From worker 2:\tsite = 3\t pl = 2.4286\t time = 1.2391\texit status = FTOL_REACHED\n",
      "      From worker 8:\tsite = 44\t pl = 1.2732\t time = 1.2599\texit status = FTOL_REACHED\n",
      "      From worker 9:\tsite = 50\t pl = 2.3847\t time = 1.3201\texit status = FTOL_REACHED\n",
      "      From worker 3:\tsite = 10\t pl = 2.1870\t time = 1.3055\texit status = FTOL_REACHED\n",
      "      From worker 6:\tsite = 31\t pl = 2.3873\t time = 1.3329\texit status = FTOL_REACHED\n",
      "      From worker 4:\tsite = 17\t pl = 1.1299\t time = 1.1381\texit status = FTOL_REACHED\n",
      "      From worker 5:\tsite = 24\t pl = 2.1778\t time = 1.2400\texit status = FTOL_REACHED\n",
      "      From worker 3:\tsite = 11\t pl = 0.3657\t time = 0.8108\texit status = FTOL_REACHED\n",
      "      From worker 7:\tsite = 39\t pl = 2.2403\t time = 1.3970\texit status = FTOL_REACHED\n",
      "      From worker 2:\tsite = 4\t pl = 1.6950\t time = 1.1128\texit status = FTOL_REACHED\n",
      "      From worker 4:\tsite = 18\t pl = 1.0290\t time = 0.8695\texit status = FTOL_REACHED\n",
      "      From worker 8:\tsite = 45\t pl = 2.0707\t time = 1.3496\texit status = FTOL_REACHED\n",
      "      From worker 6:\tsite = 32\t pl = 0.7241\t time = 1.1618\texit status = FTOL_REACHED\n",
      "      From worker 9:\tsite = 51\t pl = 2.3458\t time = 1.4344\texit status = FTOL_REACHED\n",
      "      From worker 5:\tsite = 25\t pl = 2.0443\t time = 1.3312\texit status = FTOL_REACHED\n",
      "      From worker 2:\tsite = 5\t pl = 1.5865\t time = 1.0663\texit status = FTOL_REACHED\n",
      "      From worker 3:\tsite = 12\t pl = 2.3151\t time = 1.2821\texit status = FTOL_REACHED\n",
      "      From worker 4:\tsite = 19\t pl = 1.3679\t time = 1.1920\texit status = FTOL_REACHED\n",
      "      From worker 6:\tsite = 33\t pl = 1.4584\t time = 1.1151\texit status = FTOL_REACHED\n",
      "      From worker 8:\tsite = 46\t pl = 2.1587\t time = 1.3176\texit status = FTOL_REACHED\n",
      "      From worker 7:\tsite = 40\t pl = 0.1383\t time = 1.7967\texit status = FTOL_REACHED\n",
      "      From worker 9:\tsite = 52\t pl = 0.1327\t time = 1.4262\texit status = FTOL_REACHED\n",
      "      From worker 5:\tsite = 26\t pl = 2.2762\t time = 1.3688\texit status = FTOL_REACHED\n",
      "      From worker 4:\tsite = 20\t pl = 0.8407\t time = 0.9706\texit status = FTOL_REACHED\n",
      "      From worker 6:\tsite = 34\t pl = 0.3827\t time = 0.9588\texit status = FTOL_REACHED\n",
      "      From worker 2:\tsite = 6\t pl = 2.1671\t time = 1.4082\texit status = FTOL_REACHED\n",
      "      From worker 3:\tsite = 13\t pl = 2.0157\t time = 1.3110\texit status = FTOL_REACHED\n",
      "      From worker 5:\tsite = 27\t pl = 0.0601\t time = 0.6597\texit status = FTOL_REACHED\n",
      "      From worker 8:\tsite = 47\t pl = 1.9005\t time = 1.1539\texit status = FTOL_REACHED\n",
      "      From worker 7:\tsite = 41\t pl = 1.0497\t time = 1.1268\texit status = FTOL_REACHED\n",
      "      From worker 9:\tsite = 53\t pl = 1.1602\t time = 1.0129\texit status = FTOL_REACHED\n",
      "      From worker 6:\tsite = 35\t pl = 0.6614\t time = 0.7331\texit status = FTOL_REACHED\n",
      "      From worker 4:\tsite = 21\t pl = 0.9987\t time = 1.0163\texit status = FTOL_REACHED\n",
      "      From worker 2:\tsite = 7\t pl = 1.9566\t time = 0.8948\texit status = FTOL_REACHED\n",
      "      From worker 3:\tsite = 14\t pl = 2.4611\t time = 0.9987\texit status = FTOL_REACHED\n",
      "      From worker 5:\tsite = 28\t pl = 2.0550\t time = 1.0044\texit status = FTOL_REACHED\n"
     ]
    }
   ],
   "source": [
    "sample_and_analyze_results!(out,family)\n"
   ]
  },
  {
   "cell_type": "markdown",
   "metadata": {},
   "source": [
    "## Plotting  the results"
   ]
  },
  {
   "cell_type": "code",
   "execution_count": 8,
   "metadata": {},
   "outputs": [
    {
     "data": {
      "image/png": "[encoded data removed]",
      "text/plain": [
       "Figure(PyObject <Figure size 640x480 with 1 Axes>)"
      ]
     },
     "metadata": {},
     "output_type": "display_data"
    },
    {
     "data": {
      "text/plain": [
       "(0.7022602821872387, 1673.1688090637567)"
      ]
     },
     "execution_count": 8,
     "metadata": {},
     "output_type": "execute_result"
    }
   ],
   "source": [
    "plotres(out)"
   ]
  },
  {
   "cell_type": "code",
   "execution_count": null,
   "metadata": {},
   "outputs": [],
   "source": []
  }
 ],
 "metadata": {
  "kernelspec": {
   "display_name": "Julia 1.5.2",
   "language": "julia",
   "name": "julia-1.5"
  },
  "language_info": {
   "codemirror_mode": {
    "name": "ipython",
    "version": 3
   },
   "file_extension": ".py",
   "mimetype": "text/x-python",
   "name": "python",
   "nbconvert_exporter": "python",
   "pygments_lexer": "ipython3",
   "version": 3
  }
 },
 "nbformat": 4,
 "nbformat_minor": 2
}
